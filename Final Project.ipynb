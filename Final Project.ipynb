{
 "cells": [
  {
   "cell_type": "markdown",
   "metadata": {},
   "source": [
    "# Amazon Kindle Store Review Analysis\n",
    "\n",
    "**Table of Contents:**  \n",
    "1. [Background](#background)  \n",
    "2. [Data and Methods](#data)  \n",
    "    2.1 [Modeling Methodology](#mmethod)  \n",
    "3. [Models and Classifications](#models)  \n",
    "    3.1 [Multiclass](#multiclass)  \n",
    "    3.2 [Best vs Rest](#best)  \n",
    "    3.3 [Worst vs Rest](#worst)  \n",
    "    3.4 [Top Half vs Bottom Half](#fifty)  \n",
    "    3.5 [Linear Regression on Sales Rank](#linreg)\n",
    "4. [Results and Analysis](#res)  \n",
    "5. [Conclusions](#concl)  \n",
    "6. [Citations](#cit)  "
   ]
  },
  {
   "cell_type": "markdown",
   "metadata": {},
   "source": [
    "## 1. Background\n",
    "<a id=\"background\"></a>"
   ]
  },
  {
   "cell_type": "markdown",
   "metadata": {},
   "source": [
    "Amazon reviews can be a means of measuring the impact of a book in the wider market. While for academic works, the number of citations is often used for measurement of book impact [[1]](#cit1), citation counts are not every well correlated with reader review counts on other sites [[2]](#cit2). Additionally, these metrics are unavailable for non-academic books as well as for books that aim to provide primarily an educational or cultural impact [[3]](#cit3). It is possible, however, to utilize reader reviews to measure book impact of both academic books [[4]](#cit4) and non-academic books. While, for the most part, reviews tend to be mostly positive, reviews do have an effect on the sales of the book, and therefore also affect cultural impact [[5]](#cit5).  \n",
    "\n",
    "Given that reviews can have an effect on the sales of a book, each review would therefore have an impact on the Amazon sales rank. If a single Amazon review can predict the sales rank of a Kindle book being reviewed, it should be possible to determine the potential success of a book based on a small sample of readers before the book is even sold, and thus its potential cultural impact. "
   ]
  },
  {
   "cell_type": "markdown",
   "metadata": {},
   "source": [
    "## 2. Data and Methods\n",
    "<a id=\"data\"></a>"
   ]
  },
  {
   "cell_type": "markdown",
   "metadata": {},
   "source": [
    "In order to ascertain whether or not a single Amazon review can predict the quality of the Kindle book being reviewed, two datasets were used. Both were acquired through Amazon review data from 2018 by Jianmo Ni [[6]](#cit6). "
   ]
  },
  {
   "cell_type": "code",
   "execution_count": 1,
   "metadata": {},
   "outputs": [],
   "source": [
    "import numpy as np\n",
    "import pandas as pd\n",
    "import gzip\n",
    "import json\n",
    "\n",
    "from sklearn.model_selection import train_test_split\n",
    "from sklearn.utils import shuffle\n",
    "from sklearn.feature_extraction.text import TfidfVectorizer"
   ]
  },
  {
   "cell_type": "code",
   "execution_count": 2,
   "metadata": {},
   "outputs": [],
   "source": [
    "def parse(path):\n",
    "    g = gzip.open(path, 'rb')\n",
    "    for l in g:\n",
    "        yield json.loads(l)\n",
    "\n",
    "def getDF(path):\n",
    "    i = 0\n",
    "    df = {}\n",
    "    for d in parse(path):\n",
    "        df[i] = d\n",
    "        i += 1\n",
    "    return pd.DataFrame.from_dict(df, orient='index')"
   ]
  },
  {
   "cell_type": "markdown",
   "metadata": {},
   "source": [
    "The first dataset is a 5-core subset of Amazon Kindle review data, in which all users and items have at least 5 reviews. This dataset consisted of reviews for Kindle books, and included information such as the ASIN, the review text, and other information about each review. There are a total of 2,222,983 reviews in this dataset. "
   ]
  },
  {
   "cell_type": "code",
   "execution_count": 3,
   "metadata": {},
   "outputs": [
    {
     "data": {
      "text/html": [
       "<div>\n",
       "<style scoped>\n",
       "    .dataframe tbody tr th:only-of-type {\n",
       "        vertical-align: middle;\n",
       "    }\n",
       "\n",
       "    .dataframe tbody tr th {\n",
       "        vertical-align: top;\n",
       "    }\n",
       "\n",
       "    .dataframe thead th {\n",
       "        text-align: right;\n",
       "    }\n",
       "</style>\n",
       "<table border=\"1\" class=\"dataframe\">\n",
       "  <thead>\n",
       "    <tr style=\"text-align: right;\">\n",
       "      <th></th>\n",
       "      <th>overall</th>\n",
       "      <th>verified</th>\n",
       "      <th>reviewTime</th>\n",
       "      <th>reviewerID</th>\n",
       "      <th>asin</th>\n",
       "      <th>style</th>\n",
       "      <th>reviewerName</th>\n",
       "      <th>reviewText</th>\n",
       "      <th>summary</th>\n",
       "      <th>unixReviewTime</th>\n",
       "      <th>vote</th>\n",
       "      <th>image</th>\n",
       "    </tr>\n",
       "  </thead>\n",
       "  <tbody>\n",
       "    <tr>\n",
       "      <th>0</th>\n",
       "      <td>4.0</td>\n",
       "      <td>True</td>\n",
       "      <td>07 3, 2014</td>\n",
       "      <td>A2LSKD2H9U8N0J</td>\n",
       "      <td>B000FA5KK0</td>\n",
       "      <td>{'Format:': ' Kindle Edition'}</td>\n",
       "      <td>sandra sue marsolek</td>\n",
       "      <td>pretty good story, a little exaggerated, but I...</td>\n",
       "      <td>pretty good story</td>\n",
       "      <td>1404345600</td>\n",
       "      <td>NaN</td>\n",
       "      <td>NaN</td>\n",
       "    </tr>\n",
       "    <tr>\n",
       "      <th>1</th>\n",
       "      <td>5.0</td>\n",
       "      <td>True</td>\n",
       "      <td>05 26, 2014</td>\n",
       "      <td>A2QP13XTJND1QS</td>\n",
       "      <td>B000FA5KK0</td>\n",
       "      <td>{'Format:': ' Kindle Edition'}</td>\n",
       "      <td>Tpl</td>\n",
       "      <td>If you've read other max brand westerns, you k...</td>\n",
       "      <td>A very good book</td>\n",
       "      <td>1401062400</td>\n",
       "      <td>NaN</td>\n",
       "      <td>NaN</td>\n",
       "    </tr>\n",
       "    <tr>\n",
       "      <th>2</th>\n",
       "      <td>5.0</td>\n",
       "      <td>True</td>\n",
       "      <td>09 16, 2016</td>\n",
       "      <td>A8WQ7MAG3HFOZ</td>\n",
       "      <td>B000FA5KK0</td>\n",
       "      <td>{'Format:': ' Kindle Edition'}</td>\n",
       "      <td>Alverne F. Anderson</td>\n",
       "      <td>Love Max, always a fun twist</td>\n",
       "      <td>Five Stars</td>\n",
       "      <td>1473984000</td>\n",
       "      <td>NaN</td>\n",
       "      <td>NaN</td>\n",
       "    </tr>\n",
       "    <tr>\n",
       "      <th>3</th>\n",
       "      <td>5.0</td>\n",
       "      <td>True</td>\n",
       "      <td>03 3, 2016</td>\n",
       "      <td>A1E0MODSRYP7O</td>\n",
       "      <td>B000FA5KK0</td>\n",
       "      <td>{'Format:': ' Kindle Edition'}</td>\n",
       "      <td>Jeff</td>\n",
       "      <td>As usual for him, a good book</td>\n",
       "      <td>a good</td>\n",
       "      <td>1456963200</td>\n",
       "      <td>NaN</td>\n",
       "      <td>NaN</td>\n",
       "    </tr>\n",
       "    <tr>\n",
       "      <th>4</th>\n",
       "      <td>5.0</td>\n",
       "      <td>True</td>\n",
       "      <td>09 10, 2015</td>\n",
       "      <td>AYUTCGVSM1H7T</td>\n",
       "      <td>B000FA5KK0</td>\n",
       "      <td>{'Format:': ' Kindle Edition'}</td>\n",
       "      <td>DEHS - EddyRapcon</td>\n",
       "      <td>MB is one of the original western writers and ...</td>\n",
       "      <td>A Western</td>\n",
       "      <td>1441843200</td>\n",
       "      <td>2</td>\n",
       "      <td>NaN</td>\n",
       "    </tr>\n",
       "  </tbody>\n",
       "</table>\n",
       "</div>"
      ],
      "text/plain": [
       "   overall  verified   reviewTime      reviewerID        asin  \\\n",
       "0      4.0      True   07 3, 2014  A2LSKD2H9U8N0J  B000FA5KK0   \n",
       "1      5.0      True  05 26, 2014  A2QP13XTJND1QS  B000FA5KK0   \n",
       "2      5.0      True  09 16, 2016   A8WQ7MAG3HFOZ  B000FA5KK0   \n",
       "3      5.0      True   03 3, 2016   A1E0MODSRYP7O  B000FA5KK0   \n",
       "4      5.0      True  09 10, 2015   AYUTCGVSM1H7T  B000FA5KK0   \n",
       "\n",
       "                            style         reviewerName  \\\n",
       "0  {'Format:': ' Kindle Edition'}  sandra sue marsolek   \n",
       "1  {'Format:': ' Kindle Edition'}                  Tpl   \n",
       "2  {'Format:': ' Kindle Edition'}  Alverne F. Anderson   \n",
       "3  {'Format:': ' Kindle Edition'}                 Jeff   \n",
       "4  {'Format:': ' Kindle Edition'}    DEHS - EddyRapcon   \n",
       "\n",
       "                                          reviewText            summary  \\\n",
       "0  pretty good story, a little exaggerated, but I...  pretty good story   \n",
       "1  If you've read other max brand westerns, you k...   A very good book   \n",
       "2                       Love Max, always a fun twist         Five Stars   \n",
       "3                      As usual for him, a good book             a good   \n",
       "4  MB is one of the original western writers and ...          A Western   \n",
       "\n",
       "   unixReviewTime vote image  \n",
       "0      1404345600  NaN   NaN  \n",
       "1      1401062400  NaN   NaN  \n",
       "2      1473984000  NaN   NaN  \n",
       "3      1456963200  NaN   NaN  \n",
       "4      1441843200    2   NaN  "
      ]
     },
     "execution_count": 3,
     "metadata": {},
     "output_type": "execute_result"
    }
   ],
   "source": [
    "df = getDF('Kindle_Store_5.json.gz')\n",
    "df.head()"
   ]
  },
  {
   "cell_type": "code",
   "execution_count": 4,
   "metadata": {},
   "outputs": [
    {
     "data": {
      "text/html": [
       "<div>\n",
       "<style scoped>\n",
       "    .dataframe tbody tr th:only-of-type {\n",
       "        vertical-align: middle;\n",
       "    }\n",
       "\n",
       "    .dataframe tbody tr th {\n",
       "        vertical-align: top;\n",
       "    }\n",
       "\n",
       "    .dataframe thead th {\n",
       "        text-align: right;\n",
       "    }\n",
       "</style>\n",
       "<table border=\"1\" class=\"dataframe\">\n",
       "  <thead>\n",
       "    <tr style=\"text-align: right;\">\n",
       "      <th></th>\n",
       "      <th>overall</th>\n",
       "      <th>verified</th>\n",
       "      <th>asin</th>\n",
       "      <th>reviewText</th>\n",
       "    </tr>\n",
       "  </thead>\n",
       "  <tbody>\n",
       "    <tr>\n",
       "      <th>0</th>\n",
       "      <td>4.0</td>\n",
       "      <td>1</td>\n",
       "      <td>B000FA5KK0</td>\n",
       "      <td>pretty good story, a little exaggerated, but I...</td>\n",
       "    </tr>\n",
       "    <tr>\n",
       "      <th>1</th>\n",
       "      <td>5.0</td>\n",
       "      <td>1</td>\n",
       "      <td>B000FA5KK0</td>\n",
       "      <td>If you've read other max brand westerns, you k...</td>\n",
       "    </tr>\n",
       "    <tr>\n",
       "      <th>2</th>\n",
       "      <td>5.0</td>\n",
       "      <td>1</td>\n",
       "      <td>B000FA5KK0</td>\n",
       "      <td>Love Max, always a fun twist</td>\n",
       "    </tr>\n",
       "    <tr>\n",
       "      <th>3</th>\n",
       "      <td>5.0</td>\n",
       "      <td>1</td>\n",
       "      <td>B000FA5KK0</td>\n",
       "      <td>As usual for him, a good book</td>\n",
       "    </tr>\n",
       "    <tr>\n",
       "      <th>4</th>\n",
       "      <td>5.0</td>\n",
       "      <td>1</td>\n",
       "      <td>B000FA5KK0</td>\n",
       "      <td>MB is one of the original western writers and ...</td>\n",
       "    </tr>\n",
       "  </tbody>\n",
       "</table>\n",
       "</div>"
      ],
      "text/plain": [
       "   overall  verified        asin  \\\n",
       "0      4.0         1  B000FA5KK0   \n",
       "1      5.0         1  B000FA5KK0   \n",
       "2      5.0         1  B000FA5KK0   \n",
       "3      5.0         1  B000FA5KK0   \n",
       "4      5.0         1  B000FA5KK0   \n",
       "\n",
       "                                          reviewText  \n",
       "0  pretty good story, a little exaggerated, but I...  \n",
       "1  If you've read other max brand westerns, you k...  \n",
       "2                       Love Max, always a fun twist  \n",
       "3                      As usual for him, a good book  \n",
       "4  MB is one of the original western writers and ...  "
      ]
     },
     "execution_count": 4,
     "metadata": {},
     "output_type": "execute_result"
    }
   ],
   "source": [
    "df.drop(columns=['reviewTime', 'style', 'image', 'reviewerID',\n",
    "                 'reviewerName', 'unixReviewTime', 'summary', 'vote'], inplace=True)\n",
    "df.fillna(0, inplace=True)\n",
    "df = df.replace({True:1,False:0})\n",
    "df.head()"
   ]
  },
  {
   "cell_type": "code",
   "execution_count": 5,
   "metadata": {},
   "outputs": [],
   "source": [
    "s1 = df.groupby('asin').mean()['overall']\n",
    "s2 = df.groupby('asin').count()['reviewText']\n",
    "classes = pd.concat([s1, s2], axis=1)\n",
    "classes = classes.rename(columns={\"overall\": \"average rating\", \"reviewText\": \"numReviews\"})"
   ]
  },
  {
   "cell_type": "markdown",
   "metadata": {},
   "source": [
    "The second dataset is a Kindle Store metadata dataset, consisting of metadata on each item sold, such as the ASIN and the Amazon sales rank. "
   ]
  },
  {
   "cell_type": "code",
   "execution_count": 6,
   "metadata": {},
   "outputs": [
    {
     "data": {
      "text/plain": [
       "asin\n",
       "0143065971    1,857,911 Paid in Kindle Store (\n",
       "1423600150      682,905 Paid in Kindle Store (\n",
       "B000FA5KKA    1,716,849 Paid in Kindle Store (\n",
       "B000FA5M3K    1,683,973 Paid in Kindle Store (\n",
       "B000FA5KJQ    3,394,136 Paid in Kindle Store (\n",
       "Name: rank, dtype: object"
      ]
     },
     "execution_count": 6,
     "metadata": {},
     "output_type": "execute_result"
    }
   ],
   "source": [
    "meta = getDF('meta_Kindle_Store.json.gz')\n",
    "meta = meta.set_index('asin')\n",
    "meta = meta['rank']\n",
    "meta.head()"
   ]
  },
  {
   "cell_type": "code",
   "execution_count": 7,
   "metadata": {},
   "outputs": [],
   "source": [
    "classes = classes.join(meta)"
   ]
  },
  {
   "cell_type": "code",
   "execution_count": 8,
   "metadata": {},
   "outputs": [],
   "source": [
    "def getNumRank(rankstr):\n",
    "    string = str(rankstr).split()[0].replace(\",\",\"\")\n",
    "    if string != 'nan' and string != '[]':\n",
    "        return int(string)\n",
    "    else: \n",
    "        return np.nan"
   ]
  },
  {
   "cell_type": "code",
   "execution_count": 9,
   "metadata": {},
   "outputs": [
    {
     "data": {
      "text/html": [
       "<div>\n",
       "<style scoped>\n",
       "    .dataframe tbody tr th:only-of-type {\n",
       "        vertical-align: middle;\n",
       "    }\n",
       "\n",
       "    .dataframe tbody tr th {\n",
       "        vertical-align: top;\n",
       "    }\n",
       "\n",
       "    .dataframe thead th {\n",
       "        text-align: right;\n",
       "    }\n",
       "</style>\n",
       "<table border=\"1\" class=\"dataframe\">\n",
       "  <thead>\n",
       "    <tr style=\"text-align: right;\">\n",
       "      <th></th>\n",
       "      <th>average rating</th>\n",
       "      <th>numReviews</th>\n",
       "      <th>numRank</th>\n",
       "    </tr>\n",
       "    <tr>\n",
       "      <th>asin</th>\n",
       "      <th></th>\n",
       "      <th></th>\n",
       "      <th></th>\n",
       "    </tr>\n",
       "  </thead>\n",
       "  <tbody>\n",
       "    <tr>\n",
       "      <th>B000FA5KK0</th>\n",
       "      <td>4.615385</td>\n",
       "      <td>13</td>\n",
       "      <td>5062792.0</td>\n",
       "    </tr>\n",
       "    <tr>\n",
       "      <th>B000FA5PV4</th>\n",
       "      <td>4.166667</td>\n",
       "      <td>6</td>\n",
       "      <td>549700.0</td>\n",
       "    </tr>\n",
       "    <tr>\n",
       "      <th>B000FA64PK</th>\n",
       "      <td>4.125000</td>\n",
       "      <td>8</td>\n",
       "      <td>350999.0</td>\n",
       "    </tr>\n",
       "    <tr>\n",
       "      <th>B000FA64QO</th>\n",
       "      <td>3.666667</td>\n",
       "      <td>9</td>\n",
       "      <td>139367.0</td>\n",
       "    </tr>\n",
       "    <tr>\n",
       "      <th>B000FA65EK</th>\n",
       "      <td>2.571429</td>\n",
       "      <td>7</td>\n",
       "      <td>887049.0</td>\n",
       "    </tr>\n",
       "  </tbody>\n",
       "</table>\n",
       "</div>"
      ],
      "text/plain": [
       "            average rating  numReviews    numRank\n",
       "asin                                             \n",
       "B000FA5KK0        4.615385          13  5062792.0\n",
       "B000FA5PV4        4.166667           6   549700.0\n",
       "B000FA64PK        4.125000           8   350999.0\n",
       "B000FA64QO        3.666667           9   139367.0\n",
       "B000FA65EK        2.571429           7   887049.0"
      ]
     },
     "execution_count": 9,
     "metadata": {},
     "output_type": "execute_result"
    }
   ],
   "source": [
    "classes['numRank'] = classes['rank'].apply(getNumRank)\n",
    "classes = classes.drop(columns=['rank'])\n",
    "classes.head()"
   ]
  },
  {
   "cell_type": "code",
   "execution_count": 10,
   "metadata": {
    "scrolled": true
   },
   "outputs": [
    {
     "data": {
      "text/html": [
       "<div>\n",
       "<style scoped>\n",
       "    .dataframe tbody tr th:only-of-type {\n",
       "        vertical-align: middle;\n",
       "    }\n",
       "\n",
       "    .dataframe tbody tr th {\n",
       "        vertical-align: top;\n",
       "    }\n",
       "\n",
       "    .dataframe thead th {\n",
       "        text-align: right;\n",
       "    }\n",
       "</style>\n",
       "<table border=\"1\" class=\"dataframe\">\n",
       "  <thead>\n",
       "    <tr style=\"text-align: right;\">\n",
       "      <th></th>\n",
       "      <th>average rating</th>\n",
       "      <th>numReviews</th>\n",
       "      <th>numRank</th>\n",
       "    </tr>\n",
       "  </thead>\n",
       "  <tbody>\n",
       "    <tr>\n",
       "      <th>count</th>\n",
       "      <td>98824.000000</td>\n",
       "      <td>98824.000000</td>\n",
       "      <td>9.862700e+04</td>\n",
       "    </tr>\n",
       "    <tr>\n",
       "      <th>mean</th>\n",
       "      <td>4.370076</td>\n",
       "      <td>22.494364</td>\n",
       "      <td>8.633919e+05</td>\n",
       "    </tr>\n",
       "    <tr>\n",
       "      <th>std</th>\n",
       "      <td>0.453519</td>\n",
       "      <td>34.394862</td>\n",
       "      <td>7.567172e+05</td>\n",
       "    </tr>\n",
       "    <tr>\n",
       "      <th>min</th>\n",
       "      <td>1.000000</td>\n",
       "      <td>1.000000</td>\n",
       "      <td>6.000000e+00</td>\n",
       "    </tr>\n",
       "    <tr>\n",
       "      <th>25%</th>\n",
       "      <td>4.142857</td>\n",
       "      <td>7.000000</td>\n",
       "      <td>3.154150e+05</td>\n",
       "    </tr>\n",
       "    <tr>\n",
       "      <th>50%</th>\n",
       "      <td>4.444444</td>\n",
       "      <td>12.000000</td>\n",
       "      <td>6.912710e+05</td>\n",
       "    </tr>\n",
       "    <tr>\n",
       "      <th>75%</th>\n",
       "      <td>4.698238</td>\n",
       "      <td>24.000000</td>\n",
       "      <td>1.190253e+06</td>\n",
       "    </tr>\n",
       "    <tr>\n",
       "      <th>max</th>\n",
       "      <td>5.000000</td>\n",
       "      <td>2218.000000</td>\n",
       "      <td>5.213707e+06</td>\n",
       "    </tr>\n",
       "  </tbody>\n",
       "</table>\n",
       "</div>"
      ],
      "text/plain": [
       "       average rating    numReviews       numRank\n",
       "count    98824.000000  98824.000000  9.862700e+04\n",
       "mean         4.370076     22.494364  8.633919e+05\n",
       "std          0.453519     34.394862  7.567172e+05\n",
       "min          1.000000      1.000000  6.000000e+00\n",
       "25%          4.142857      7.000000  3.154150e+05\n",
       "50%          4.444444     12.000000  6.912710e+05\n",
       "75%          4.698238     24.000000  1.190253e+06\n",
       "max          5.000000   2218.000000  5.213707e+06"
      ]
     },
     "execution_count": 10,
     "metadata": {},
     "output_type": "execute_result"
    }
   ],
   "source": [
    "classes.describe()"
   ]
  },
  {
   "cell_type": "markdown",
   "metadata": {},
   "source": [
    "For the initial featurization, each quartile of data based on sales rank is given a separate class."
   ]
  },
  {
   "cell_type": "code",
   "execution_count": 11,
   "metadata": {},
   "outputs": [
    {
     "name": "stdout",
     "output_type": "stream",
     "text": [
      "315415.0 691271.0 1190253.0\n"
     ]
    }
   ],
   "source": [
    "qBest = classes[\"numRank\"].quantile(0.25)\n",
    "q50 = classes[\"numRank\"].quantile(0.5)\n",
    "qWorst = classes[\"numRank\"].quantile(0.75)\n",
    "print(qBest, q50, qWorst)"
   ]
  },
  {
   "cell_type": "code",
   "execution_count": 12,
   "metadata": {},
   "outputs": [],
   "source": [
    "def defClass(x):\n",
    "    if x <= qBest:\n",
    "        return 0\n",
    "    elif qBest < x <= q50:\n",
    "        return 1\n",
    "    elif q50 < x <= qWorst:\n",
    "        return 2\n",
    "    elif qWorst < x:\n",
    "        return 3"
   ]
  },
  {
   "cell_type": "code",
   "execution_count": 13,
   "metadata": {},
   "outputs": [
    {
     "data": {
      "text/html": [
       "<div>\n",
       "<style scoped>\n",
       "    .dataframe tbody tr th:only-of-type {\n",
       "        vertical-align: middle;\n",
       "    }\n",
       "\n",
       "    .dataframe tbody tr th {\n",
       "        vertical-align: top;\n",
       "    }\n",
       "\n",
       "    .dataframe thead th {\n",
       "        text-align: right;\n",
       "    }\n",
       "</style>\n",
       "<table border=\"1\" class=\"dataframe\">\n",
       "  <thead>\n",
       "    <tr style=\"text-align: right;\">\n",
       "      <th></th>\n",
       "      <th>average rating</th>\n",
       "      <th>numReviews</th>\n",
       "      <th>numRank</th>\n",
       "      <th>class</th>\n",
       "    </tr>\n",
       "    <tr>\n",
       "      <th>asin</th>\n",
       "      <th></th>\n",
       "      <th></th>\n",
       "      <th></th>\n",
       "      <th></th>\n",
       "    </tr>\n",
       "  </thead>\n",
       "  <tbody>\n",
       "    <tr>\n",
       "      <th>B000FA5KK0</th>\n",
       "      <td>4.615385</td>\n",
       "      <td>13</td>\n",
       "      <td>5062792.0</td>\n",
       "      <td>3.0</td>\n",
       "    </tr>\n",
       "    <tr>\n",
       "      <th>B000FA5PV4</th>\n",
       "      <td>4.166667</td>\n",
       "      <td>6</td>\n",
       "      <td>549700.0</td>\n",
       "      <td>1.0</td>\n",
       "    </tr>\n",
       "    <tr>\n",
       "      <th>B000FA64PK</th>\n",
       "      <td>4.125000</td>\n",
       "      <td>8</td>\n",
       "      <td>350999.0</td>\n",
       "      <td>1.0</td>\n",
       "    </tr>\n",
       "    <tr>\n",
       "      <th>B000FA64QO</th>\n",
       "      <td>3.666667</td>\n",
       "      <td>9</td>\n",
       "      <td>139367.0</td>\n",
       "      <td>0.0</td>\n",
       "    </tr>\n",
       "    <tr>\n",
       "      <th>B000FA65EK</th>\n",
       "      <td>2.571429</td>\n",
       "      <td>7</td>\n",
       "      <td>887049.0</td>\n",
       "      <td>2.0</td>\n",
       "    </tr>\n",
       "  </tbody>\n",
       "</table>\n",
       "</div>"
      ],
      "text/plain": [
       "            average rating  numReviews    numRank  class\n",
       "asin                                                    \n",
       "B000FA5KK0        4.615385          13  5062792.0    3.0\n",
       "B000FA5PV4        4.166667           6   549700.0    1.0\n",
       "B000FA64PK        4.125000           8   350999.0    1.0\n",
       "B000FA64QO        3.666667           9   139367.0    0.0\n",
       "B000FA65EK        2.571429           7   887049.0    2.0"
      ]
     },
     "execution_count": 13,
     "metadata": {},
     "output_type": "execute_result"
    }
   ],
   "source": [
    "classes['class'] = classes['numRank'].apply(defClass)\n",
    "classes.head()"
   ]
  },
  {
   "cell_type": "code",
   "execution_count": 14,
   "metadata": {},
   "outputs": [
    {
     "data": {
      "text/html": [
       "<div>\n",
       "<style scoped>\n",
       "    .dataframe tbody tr th:only-of-type {\n",
       "        vertical-align: middle;\n",
       "    }\n",
       "\n",
       "    .dataframe tbody tr th {\n",
       "        vertical-align: top;\n",
       "    }\n",
       "\n",
       "    .dataframe thead th {\n",
       "        text-align: right;\n",
       "    }\n",
       "</style>\n",
       "<table border=\"1\" class=\"dataframe\">\n",
       "  <thead>\n",
       "    <tr style=\"text-align: right;\">\n",
       "      <th></th>\n",
       "      <th>overall</th>\n",
       "      <th>verified</th>\n",
       "      <th>asin</th>\n",
       "      <th>reviewText</th>\n",
       "      <th>class</th>\n",
       "      <th>rank</th>\n",
       "    </tr>\n",
       "  </thead>\n",
       "  <tbody>\n",
       "    <tr>\n",
       "      <th>0</th>\n",
       "      <td>4.0</td>\n",
       "      <td>1</td>\n",
       "      <td>B000FA5KK0</td>\n",
       "      <td>pretty good story, a little exaggerated, but I...</td>\n",
       "      <td>3.0</td>\n",
       "      <td>5062792.0</td>\n",
       "    </tr>\n",
       "    <tr>\n",
       "      <th>1</th>\n",
       "      <td>5.0</td>\n",
       "      <td>1</td>\n",
       "      <td>B000FA5KK0</td>\n",
       "      <td>If you've read other max brand westerns, you k...</td>\n",
       "      <td>3.0</td>\n",
       "      <td>5062792.0</td>\n",
       "    </tr>\n",
       "    <tr>\n",
       "      <th>2</th>\n",
       "      <td>5.0</td>\n",
       "      <td>1</td>\n",
       "      <td>B000FA5KK0</td>\n",
       "      <td>Love Max, always a fun twist</td>\n",
       "      <td>3.0</td>\n",
       "      <td>5062792.0</td>\n",
       "    </tr>\n",
       "    <tr>\n",
       "      <th>3</th>\n",
       "      <td>5.0</td>\n",
       "      <td>1</td>\n",
       "      <td>B000FA5KK0</td>\n",
       "      <td>As usual for him, a good book</td>\n",
       "      <td>3.0</td>\n",
       "      <td>5062792.0</td>\n",
       "    </tr>\n",
       "    <tr>\n",
       "      <th>4</th>\n",
       "      <td>5.0</td>\n",
       "      <td>1</td>\n",
       "      <td>B000FA5KK0</td>\n",
       "      <td>MB is one of the original western writers and ...</td>\n",
       "      <td>3.0</td>\n",
       "      <td>5062792.0</td>\n",
       "    </tr>\n",
       "  </tbody>\n",
       "</table>\n",
       "</div>"
      ],
      "text/plain": [
       "   overall  verified        asin  \\\n",
       "0      4.0         1  B000FA5KK0   \n",
       "1      5.0         1  B000FA5KK0   \n",
       "2      5.0         1  B000FA5KK0   \n",
       "3      5.0         1  B000FA5KK0   \n",
       "4      5.0         1  B000FA5KK0   \n",
       "\n",
       "                                          reviewText  class       rank  \n",
       "0  pretty good story, a little exaggerated, but I...    3.0  5062792.0  \n",
       "1  If you've read other max brand westerns, you k...    3.0  5062792.0  \n",
       "2                       Love Max, always a fun twist    3.0  5062792.0  \n",
       "3                      As usual for him, a good book    3.0  5062792.0  \n",
       "4  MB is one of the original western writers and ...    3.0  5062792.0  "
      ]
     },
     "execution_count": 14,
     "metadata": {},
     "output_type": "execute_result"
    }
   ],
   "source": [
    "def getClass(asin):\n",
    "    return classes.loc[asin, 'class']\n",
    "\n",
    "def getRank(asin):\n",
    "    return classes.loc[asin, 'numRank']\n",
    "\n",
    "df['class'] = df['asin'].apply(getClass)\n",
    "df['rank'] = df['asin'].apply(getRank)\n",
    "df.dropna(subset=['class', 'rank'], inplace=True)\n",
    "df.head()"
   ]
  },
  {
   "cell_type": "code",
   "execution_count": 15,
   "metadata": {},
   "outputs": [],
   "source": [
    "c = df['class'].to_numpy()\n",
    "r = df['rank'].to_numpy()\n",
    "t = df['reviewText'].apply(lambda x: str(x)).to_numpy()"
   ]
  },
  {
   "cell_type": "markdown",
   "metadata": {},
   "source": [
    "The data is shuffled and then split into testing, training, and validation classes. This was done by first splitting the data into 67% training and 33% testing, and then splitting the training into 67% training and 33% validation. "
   ]
  },
  {
   "cell_type": "code",
   "execution_count": 16,
   "metadata": {},
   "outputs": [],
   "source": [
    "t,c,r = shuffle(t,c,r)\n",
    "X_train, X_test, y_train, y_test, yreg_train, yreg_test = train_test_split(t, c, r, test_size=0.33)\n",
    "X_train, X_valid, y_train, y_valid, yreg_train, yreg_valid = train_test_split(X_train, y_train, yreg_train, test_size=0.33)"
   ]
  },
  {
   "cell_type": "markdown",
   "metadata": {},
   "source": [
    "For each review, the review text was vectorized using a weighted vectorizer, resulting in a sparse matrix. "
   ]
  },
  {
   "cell_type": "code",
   "execution_count": 17,
   "metadata": {},
   "outputs": [],
   "source": [
    "vect = TfidfVectorizer()"
   ]
  },
  {
   "cell_type": "code",
   "execution_count": 18,
   "metadata": {},
   "outputs": [],
   "source": [
    "X_train = vect.fit_transform(X_train)\n",
    "X_valid = vect.transform(X_valid)\n",
    "X_test = vect.transform(X_test)"
   ]
  },
  {
   "cell_type": "markdown",
   "metadata": {},
   "source": [
    "### 2.1 Modeling Methodology\n",
    "<a id=\"mmethod\"></a>"
   ]
  },
  {
   "cell_type": "markdown",
   "metadata": {},
   "source": [
    "The models used for predictions are the perceptron, logistic regression, and linear SVC models from the Python sklearn library. These were chosen due to their speed and interpretability. The validation data is used for the logistic regression and linear SVC models in order to find the C value that would produce the best fit for regularization. All models are then scored using the F1 score on testing data. Additionally, the highest and lowest weighted words for each classifier are found for further analysis. "
   ]
  },
  {
   "cell_type": "code",
   "execution_count": 19,
   "metadata": {},
   "outputs": [],
   "source": [
    "from sklearn.linear_model import Perceptron\n",
    "from sklearn.linear_model import LogisticRegression\n",
    "from sklearn.svm import LinearSVC\n",
    "\n",
    "from sklearn.metrics import f1_score"
   ]
  },
  {
   "cell_type": "code",
   "execution_count": 20,
   "metadata": {},
   "outputs": [],
   "source": [
    "features = vect.get_feature_names()"
   ]
  },
  {
   "cell_type": "code",
   "execution_count": 21,
   "metadata": {},
   "outputs": [],
   "source": [
    "pscores = [] #f1 scores for perceptrons\n",
    "lscores = [] #f1 scores for logistic regressors\n",
    "sscores = [] #f1 scores for linear svms"
   ]
  },
  {
   "cell_type": "code",
   "execution_count": 22,
   "metadata": {},
   "outputs": [],
   "source": [
    "def getLowHigh(coef):\n",
    "    sorted_weights = np.argsort(coef)\n",
    "    lo = []\n",
    "    hi = []\n",
    "    for i in range(30): \n",
    "        lo.append(features[sorted_weights[0,i]])\n",
    "    for i in range(30): \n",
    "        hi.append(features[sorted_weights[0,len(sorted_weights[0])-i-1]])\n",
    "    return lo, hi"
   ]
  },
  {
   "cell_type": "code",
   "execution_count": 23,
   "metadata": {},
   "outputs": [],
   "source": [
    "def getScores(X_train, y_train, X_valid, y_valid, classifier):\n",
    "    scores = []\n",
    "    def createModel(i, classifier):\n",
    "        if classifier == \"log\":\n",
    "            return LogisticRegression(C=i)\n",
    "        elif classifier == \"svm\":\n",
    "            return LinearSVC(C=i)\n",
    "        else:\n",
    "            print(\"Use either log or svm\")\n",
    "            return\n",
    "    for i in [1, 10, 100, 1000]:\n",
    "        model = createModel(i, classifier)\n",
    "        model.fit(X_train, y_train)\n",
    "        f1 = f1_score(y_valid, model.predict(X_valid), average='weighted')\n",
    "        scores.append((f1, i))\n",
    "    return scores\n",
    "\n",
    "def getBestC(scores):\n",
    "    return max(scores, key=lambda s: s[0])[1]\n",
    "\n",
    "def appendScore(f1, classifier):\n",
    "    if classifier == \"log\":\n",
    "        lscores.append(f1)\n",
    "    elif classifier == \"svm\":\n",
    "        sscores.append(f1)\n",
    "    elif classifier == \"per\":\n",
    "        pscores.append(f1)\n",
    "    else:\n",
    "        print(\"Must be log, svm or per\")\n",
    "\n",
    "def testModel(classifier, X_train, y_train, X_test, y_test, i=None):\n",
    "    def createModel(classifier, i):\n",
    "        if classifier == \"log\":\n",
    "            return LogisticRegression(C=i)\n",
    "        elif classifier == \"svm\":\n",
    "            return LinearSVC(C=i)\n",
    "        elif classifier == \"per\":\n",
    "            return Perceptron()\n",
    "        else:\n",
    "            print(\"Must be log, svm or per\")\n",
    "            return\n",
    "    model = createModel(classifier, i)\n",
    "    model.fit(X_train, y_train)\n",
    "    y_pred = model.predict(X_test)\n",
    "    wlo, whi = getLowHigh(model.coef_)\n",
    "    f1 = f1_score(y_test, y_pred, average='weighted')\n",
    "    appendScore(f1, classifier)\n",
    "    return f1, wlo, whi"
   ]
  },
  {
   "cell_type": "markdown",
   "metadata": {},
   "source": [
    "## 3. Models and Classifications\n",
    "<a id=\"models\"></a>"
   ]
  },
  {
   "cell_type": "markdown",
   "metadata": {},
   "source": [
    "### Multiclass Models\n",
    "<a id=\"multiclass\"></a>"
   ]
  },
  {
   "cell_type": "markdown",
   "metadata": {},
   "source": [
    "For this section, the reviews were split into four classes based on quartiles for multiclass modeling. "
   ]
  },
  {
   "cell_type": "code",
   "execution_count": 24,
   "metadata": {},
   "outputs": [],
   "source": [
    "multi_lows = []\n",
    "multi_his = []"
   ]
  },
  {
   "cell_type": "markdown",
   "metadata": {},
   "source": [
    "#### Perceptron"
   ]
  },
  {
   "cell_type": "code",
   "execution_count": 25,
   "metadata": {},
   "outputs": [],
   "source": [
    "f1, wlo, whi = testModel(\"per\", X_train, y_train, X_test, y_test)"
   ]
  },
  {
   "cell_type": "code",
   "execution_count": 26,
   "metadata": {},
   "outputs": [
    {
     "data": {
      "text/plain": [
       "0.4376293971429222"
      ]
     },
     "execution_count": 26,
     "metadata": {},
     "output_type": "execute_result"
    }
   ],
   "source": [
    "multi_lows.append(wlo)\n",
    "multi_his.append(whi)\n",
    "f1"
   ]
  },
  {
   "cell_type": "markdown",
   "metadata": {},
   "source": [
    "#### Logistic Regression"
   ]
  },
  {
   "cell_type": "code",
   "execution_count": 27,
   "metadata": {},
   "outputs": [
    {
     "name": "stderr",
     "output_type": "stream",
     "text": [
      "C:\\Users\\Svetha Pulavarty\\Anaconda3\\lib\\site-packages\\sklearn\\linear_model\\_logistic.py:940: ConvergenceWarning: lbfgs failed to converge (status=1):\n",
      "STOP: TOTAL NO. of ITERATIONS REACHED LIMIT.\n",
      "\n",
      "Increase the number of iterations (max_iter) or scale the data as shown in:\n",
      "    https://scikit-learn.org/stable/modules/preprocessing.html\n",
      "Please also refer to the documentation for alternative solver options:\n",
      "    https://scikit-learn.org/stable/modules/linear_model.html#logistic-regression\n",
      "  extra_warning_msg=_LOGISTIC_SOLVER_CONVERGENCE_MSG)\n",
      "C:\\Users\\Svetha Pulavarty\\Anaconda3\\lib\\site-packages\\sklearn\\linear_model\\_logistic.py:940: ConvergenceWarning: lbfgs failed to converge (status=1):\n",
      "STOP: TOTAL NO. of ITERATIONS REACHED LIMIT.\n",
      "\n",
      "Increase the number of iterations (max_iter) or scale the data as shown in:\n",
      "    https://scikit-learn.org/stable/modules/preprocessing.html\n",
      "Please also refer to the documentation for alternative solver options:\n",
      "    https://scikit-learn.org/stable/modules/linear_model.html#logistic-regression\n",
      "  extra_warning_msg=_LOGISTIC_SOLVER_CONVERGENCE_MSG)\n",
      "C:\\Users\\Svetha Pulavarty\\Anaconda3\\lib\\site-packages\\sklearn\\linear_model\\_logistic.py:940: ConvergenceWarning: lbfgs failed to converge (status=1):\n",
      "STOP: TOTAL NO. of ITERATIONS REACHED LIMIT.\n",
      "\n",
      "Increase the number of iterations (max_iter) or scale the data as shown in:\n",
      "    https://scikit-learn.org/stable/modules/preprocessing.html\n",
      "Please also refer to the documentation for alternative solver options:\n",
      "    https://scikit-learn.org/stable/modules/linear_model.html#logistic-regression\n",
      "  extra_warning_msg=_LOGISTIC_SOLVER_CONVERGENCE_MSG)\n",
      "C:\\Users\\Svetha Pulavarty\\Anaconda3\\lib\\site-packages\\sklearn\\linear_model\\_logistic.py:940: ConvergenceWarning: lbfgs failed to converge (status=1):\n",
      "STOP: TOTAL NO. of ITERATIONS REACHED LIMIT.\n",
      "\n",
      "Increase the number of iterations (max_iter) or scale the data as shown in:\n",
      "    https://scikit-learn.org/stable/modules/preprocessing.html\n",
      "Please also refer to the documentation for alternative solver options:\n",
      "    https://scikit-learn.org/stable/modules/linear_model.html#logistic-regression\n",
      "  extra_warning_msg=_LOGISTIC_SOLVER_CONVERGENCE_MSG)\n"
     ]
    },
    {
     "data": {
      "text/plain": [
       "[(0.4279718911012983, 1),\n",
       " (0.4370485228787541, 10),\n",
       " (0.43006479387120544, 100),\n",
       " (0.43119120439494196, 1000)]"
      ]
     },
     "execution_count": 27,
     "metadata": {},
     "output_type": "execute_result"
    }
   ],
   "source": [
    "validscores = getScores(X_train, y_train, X_valid, y_valid, \"log\")\n",
    "validscores"
   ]
  },
  {
   "cell_type": "code",
   "execution_count": 28,
   "metadata": {},
   "outputs": [
    {
     "name": "stderr",
     "output_type": "stream",
     "text": [
      "C:\\Users\\Svetha Pulavarty\\Anaconda3\\lib\\site-packages\\sklearn\\linear_model\\_logistic.py:940: ConvergenceWarning: lbfgs failed to converge (status=1):\n",
      "STOP: TOTAL NO. of ITERATIONS REACHED LIMIT.\n",
      "\n",
      "Increase the number of iterations (max_iter) or scale the data as shown in:\n",
      "    https://scikit-learn.org/stable/modules/preprocessing.html\n",
      "Please also refer to the documentation for alternative solver options:\n",
      "    https://scikit-learn.org/stable/modules/linear_model.html#logistic-regression\n",
      "  extra_warning_msg=_LOGISTIC_SOLVER_CONVERGENCE_MSG)\n"
     ]
    }
   ],
   "source": [
    "i = getBestC(validscores)\n",
    "f1, wlo, whi = testModel(\"log\", X_train, y_train, X_test, y_test, i)"
   ]
  },
  {
   "cell_type": "code",
   "execution_count": 29,
   "metadata": {},
   "outputs": [
    {
     "data": {
      "text/plain": [
       "0.43784356907683936"
      ]
     },
     "execution_count": 29,
     "metadata": {},
     "output_type": "execute_result"
    }
   ],
   "source": [
    "multi_lows.append(wlo)\n",
    "multi_his.append(whi)\n",
    "f1"
   ]
  },
  {
   "cell_type": "markdown",
   "metadata": {},
   "source": [
    "#### Support Vector Machine"
   ]
  },
  {
   "cell_type": "code",
   "execution_count": 30,
   "metadata": {},
   "outputs": [
    {
     "name": "stderr",
     "output_type": "stream",
     "text": [
      "C:\\Users\\Svetha Pulavarty\\Anaconda3\\lib\\site-packages\\sklearn\\svm\\_base.py:947: ConvergenceWarning: Liblinear failed to converge, increase the number of iterations.\n",
      "  \"the number of iterations.\", ConvergenceWarning)\n"
     ]
    },
    {
     "data": {
      "text/plain": [
       "[(0.4913556866872545, 1),\n",
       " (0.49448746760149587, 10),\n",
       " (0.48398322502064495, 100),\n",
       " (0.4581862107683906, 1000)]"
      ]
     },
     "execution_count": 30,
     "metadata": {},
     "output_type": "execute_result"
    }
   ],
   "source": [
    "validscores = getScores(X_train, y_train, X_valid, y_valid, \"svm\")\n",
    "validscores"
   ]
  },
  {
   "cell_type": "code",
   "execution_count": 31,
   "metadata": {},
   "outputs": [],
   "source": [
    "i = getBestC(validscores)\n",
    "f1, wlo, whi = testModel(\"svm\", X_train, y_train, X_test, y_test, i)"
   ]
  },
  {
   "cell_type": "code",
   "execution_count": 32,
   "metadata": {},
   "outputs": [
    {
     "data": {
      "text/plain": [
       "0.49640295814324614"
      ]
     },
     "execution_count": 32,
     "metadata": {},
     "output_type": "execute_result"
    }
   ],
   "source": [
    "multi_lows.append(wlo)\n",
    "multi_his.append(whi)\n",
    "f1"
   ]
  },
  {
   "cell_type": "markdown",
   "metadata": {},
   "source": [
    "### Best vs Rest\n",
    "<a id=\"best\"></a>"
   ]
  },
  {
   "cell_type": "markdown",
   "metadata": {},
   "source": [
    "For this section, the reviews were split into two classes. The first class is those reviews for books with an Amazon sales rank in the lowest quartile, i.e. the most successful books, and the second class is all of the other books. "
   ]
  },
  {
   "cell_type": "code",
   "execution_count": 33,
   "metadata": {},
   "outputs": [],
   "source": [
    "y_test2 = y_test.copy()\n",
    "y_train2 = y_train.copy()\n",
    "y_valid2 = y_valid.copy()\n",
    "\n",
    "y_test2[y_test2 >= 1] = 1\n",
    "y_train2[y_train2 >= 1] = 1\n",
    "y_valid2[y_valid2 >= 1] = 1"
   ]
  },
  {
   "cell_type": "code",
   "execution_count": 34,
   "metadata": {},
   "outputs": [],
   "source": [
    "best_lows = []\n",
    "best_his = []"
   ]
  },
  {
   "cell_type": "markdown",
   "metadata": {},
   "source": [
    "#### Perceptron"
   ]
  },
  {
   "cell_type": "code",
   "execution_count": 35,
   "metadata": {},
   "outputs": [],
   "source": [
    "f1, wlo, whi = testModel(\"per\", X_train, y_train2, X_test, y_test2)"
   ]
  },
  {
   "cell_type": "code",
   "execution_count": 36,
   "metadata": {},
   "outputs": [
    {
     "data": {
      "text/plain": [
       "0.5982480735244586"
      ]
     },
     "execution_count": 36,
     "metadata": {},
     "output_type": "execute_result"
    }
   ],
   "source": [
    "best_lows.append(wlo)\n",
    "best_his.append(whi)\n",
    "f1"
   ]
  },
  {
   "cell_type": "markdown",
   "metadata": {},
   "source": [
    "#### Logistic Regression"
   ]
  },
  {
   "cell_type": "code",
   "execution_count": 37,
   "metadata": {},
   "outputs": [
    {
     "name": "stderr",
     "output_type": "stream",
     "text": [
      "C:\\Users\\Svetha Pulavarty\\Anaconda3\\lib\\site-packages\\sklearn\\linear_model\\_logistic.py:940: ConvergenceWarning: lbfgs failed to converge (status=1):\n",
      "STOP: TOTAL NO. of ITERATIONS REACHED LIMIT.\n",
      "\n",
      "Increase the number of iterations (max_iter) or scale the data as shown in:\n",
      "    https://scikit-learn.org/stable/modules/preprocessing.html\n",
      "Please also refer to the documentation for alternative solver options:\n",
      "    https://scikit-learn.org/stable/modules/linear_model.html#logistic-regression\n",
      "  extra_warning_msg=_LOGISTIC_SOLVER_CONVERGENCE_MSG)\n",
      "C:\\Users\\Svetha Pulavarty\\Anaconda3\\lib\\site-packages\\sklearn\\linear_model\\_logistic.py:940: ConvergenceWarning: lbfgs failed to converge (status=1):\n",
      "STOP: TOTAL NO. of ITERATIONS REACHED LIMIT.\n",
      "\n",
      "Increase the number of iterations (max_iter) or scale the data as shown in:\n",
      "    https://scikit-learn.org/stable/modules/preprocessing.html\n",
      "Please also refer to the documentation for alternative solver options:\n",
      "    https://scikit-learn.org/stable/modules/linear_model.html#logistic-regression\n",
      "  extra_warning_msg=_LOGISTIC_SOLVER_CONVERGENCE_MSG)\n",
      "C:\\Users\\Svetha Pulavarty\\Anaconda3\\lib\\site-packages\\sklearn\\linear_model\\_logistic.py:940: ConvergenceWarning: lbfgs failed to converge (status=1):\n",
      "STOP: TOTAL NO. of ITERATIONS REACHED LIMIT.\n",
      "\n",
      "Increase the number of iterations (max_iter) or scale the data as shown in:\n",
      "    https://scikit-learn.org/stable/modules/preprocessing.html\n",
      "Please also refer to the documentation for alternative solver options:\n",
      "    https://scikit-learn.org/stable/modules/linear_model.html#logistic-regression\n",
      "  extra_warning_msg=_LOGISTIC_SOLVER_CONVERGENCE_MSG)\n",
      "C:\\Users\\Svetha Pulavarty\\Anaconda3\\lib\\site-packages\\sklearn\\linear_model\\_logistic.py:940: ConvergenceWarning: lbfgs failed to converge (status=1):\n",
      "STOP: TOTAL NO. of ITERATIONS REACHED LIMIT.\n",
      "\n",
      "Increase the number of iterations (max_iter) or scale the data as shown in:\n",
      "    https://scikit-learn.org/stable/modules/preprocessing.html\n",
      "Please also refer to the documentation for alternative solver options:\n",
      "    https://scikit-learn.org/stable/modules/linear_model.html#logistic-regression\n",
      "  extra_warning_msg=_LOGISTIC_SOLVER_CONVERGENCE_MSG)\n"
     ]
    },
    {
     "data": {
      "text/plain": [
       "[(0.6300403395578715, 1),\n",
       " (0.6327767008305035, 10),\n",
       " (0.635323538477365, 100),\n",
       " (0.6306852761017345, 1000)]"
      ]
     },
     "execution_count": 37,
     "metadata": {},
     "output_type": "execute_result"
    }
   ],
   "source": [
    "validscores = getScores(X_train, y_train2, X_valid, y_valid2, \"log\")\n",
    "validscores"
   ]
  },
  {
   "cell_type": "code",
   "execution_count": 38,
   "metadata": {},
   "outputs": [
    {
     "name": "stderr",
     "output_type": "stream",
     "text": [
      "C:\\Users\\Svetha Pulavarty\\Anaconda3\\lib\\site-packages\\sklearn\\linear_model\\_logistic.py:940: ConvergenceWarning: lbfgs failed to converge (status=1):\n",
      "STOP: TOTAL NO. of ITERATIONS REACHED LIMIT.\n",
      "\n",
      "Increase the number of iterations (max_iter) or scale the data as shown in:\n",
      "    https://scikit-learn.org/stable/modules/preprocessing.html\n",
      "Please also refer to the documentation for alternative solver options:\n",
      "    https://scikit-learn.org/stable/modules/linear_model.html#logistic-regression\n",
      "  extra_warning_msg=_LOGISTIC_SOLVER_CONVERGENCE_MSG)\n"
     ]
    }
   ],
   "source": [
    "i = getBestC(validscores)\n",
    "f1, wlo, whi = testModel(\"log\", X_train, y_train2, X_test, y_test2, i)"
   ]
  },
  {
   "cell_type": "code",
   "execution_count": 39,
   "metadata": {},
   "outputs": [
    {
     "data": {
      "text/plain": [
       "0.6357892682397208"
      ]
     },
     "execution_count": 39,
     "metadata": {},
     "output_type": "execute_result"
    }
   ],
   "source": [
    "best_lows.append(wlo)\n",
    "best_his.append(whi)\n",
    "f1"
   ]
  },
  {
   "cell_type": "markdown",
   "metadata": {},
   "source": [
    "#### Support Vector Machine"
   ]
  },
  {
   "cell_type": "code",
   "execution_count": 40,
   "metadata": {},
   "outputs": [
    {
     "name": "stderr",
     "output_type": "stream",
     "text": [
      "C:\\Users\\Svetha Pulavarty\\Anaconda3\\lib\\site-packages\\sklearn\\svm\\_base.py:947: ConvergenceWarning: Liblinear failed to converge, increase the number of iterations.\n",
      "  \"the number of iterations.\", ConvergenceWarning)\n"
     ]
    },
    {
     "data": {
      "text/plain": [
       "[(0.6499154309802414, 1),\n",
       " (0.6483635463952981, 10),\n",
       " (0.6375574193476646, 100),\n",
       " (0.5928681595346037, 1000)]"
      ]
     },
     "execution_count": 40,
     "metadata": {},
     "output_type": "execute_result"
    }
   ],
   "source": [
    "validscores = getScores(X_train, y_train2, X_valid, y_valid2, \"svm\")\n",
    "validscores"
   ]
  },
  {
   "cell_type": "code",
   "execution_count": 41,
   "metadata": {},
   "outputs": [],
   "source": [
    "i = getBestC(validscores)\n",
    "f1, wlo, whi = testModel(\"svm\", X_train, y_train2, X_test, y_test2, i)"
   ]
  },
  {
   "cell_type": "code",
   "execution_count": 42,
   "metadata": {},
   "outputs": [
    {
     "data": {
      "text/plain": [
       "0.6502881649091025"
      ]
     },
     "execution_count": 42,
     "metadata": {},
     "output_type": "execute_result"
    }
   ],
   "source": [
    "best_lows.append(wlo)\n",
    "best_his.append(whi)\n",
    "f1"
   ]
  },
  {
   "cell_type": "markdown",
   "metadata": {},
   "source": [
    "### Worst vs Rest\n",
    "<a id=\"worst\"></a>"
   ]
  },
  {
   "cell_type": "markdown",
   "metadata": {},
   "source": [
    "For this section, the reviews were split into two classes. The first class is those reviews for books with an Amazon sales rank in the highest quartile, i.e. the least successful books, and the second class is all of the other books. "
   ]
  },
  {
   "cell_type": "code",
   "execution_count": 43,
   "metadata": {},
   "outputs": [],
   "source": [
    "y_test3 = y_test.copy()\n",
    "y_train3 = y_train.copy()\n",
    "y_valid3 = y_valid.copy()\n",
    "\n",
    "y_test3[y_test3 < 3] = 1\n",
    "y_train3[y_train3 < 3] = 1\n",
    "y_valid3[y_valid3 < 3] = 1\n",
    "\n",
    "y_test3[y_test3 == 3] = 0\n",
    "y_train3[y_train3 == 3] = 0\n",
    "y_valid3[y_valid3 == 3] = 0"
   ]
  },
  {
   "cell_type": "code",
   "execution_count": 44,
   "metadata": {},
   "outputs": [],
   "source": [
    "worst_lows = []\n",
    "worst_his = []"
   ]
  },
  {
   "cell_type": "markdown",
   "metadata": {},
   "source": [
    "#### Perceptron"
   ]
  },
  {
   "cell_type": "code",
   "execution_count": 45,
   "metadata": {},
   "outputs": [],
   "source": [
    "f1, wlo, whi = testModel(\"per\", X_train, y_train3, X_test, y_test3)"
   ]
  },
  {
   "cell_type": "code",
   "execution_count": 46,
   "metadata": {},
   "outputs": [
    {
     "data": {
      "text/plain": [
       "0.8543770761017324"
      ]
     },
     "execution_count": 46,
     "metadata": {},
     "output_type": "execute_result"
    }
   ],
   "source": [
    "worst_lows.append(wlo)\n",
    "worst_his.append(whi)\n",
    "f1"
   ]
  },
  {
   "cell_type": "markdown",
   "metadata": {},
   "source": [
    "#### Logistic Regression"
   ]
  },
  {
   "cell_type": "code",
   "execution_count": 47,
   "metadata": {},
   "outputs": [
    {
     "name": "stderr",
     "output_type": "stream",
     "text": [
      "C:\\Users\\Svetha Pulavarty\\Anaconda3\\lib\\site-packages\\sklearn\\linear_model\\_logistic.py:940: ConvergenceWarning: lbfgs failed to converge (status=1):\n",
      "STOP: TOTAL NO. of ITERATIONS REACHED LIMIT.\n",
      "\n",
      "Increase the number of iterations (max_iter) or scale the data as shown in:\n",
      "    https://scikit-learn.org/stable/modules/preprocessing.html\n",
      "Please also refer to the documentation for alternative solver options:\n",
      "    https://scikit-learn.org/stable/modules/linear_model.html#logistic-regression\n",
      "  extra_warning_msg=_LOGISTIC_SOLVER_CONVERGENCE_MSG)\n",
      "C:\\Users\\Svetha Pulavarty\\Anaconda3\\lib\\site-packages\\sklearn\\linear_model\\_logistic.py:940: ConvergenceWarning: lbfgs failed to converge (status=1):\n",
      "STOP: TOTAL NO. of ITERATIONS REACHED LIMIT.\n",
      "\n",
      "Increase the number of iterations (max_iter) or scale the data as shown in:\n",
      "    https://scikit-learn.org/stable/modules/preprocessing.html\n",
      "Please also refer to the documentation for alternative solver options:\n",
      "    https://scikit-learn.org/stable/modules/linear_model.html#logistic-regression\n",
      "  extra_warning_msg=_LOGISTIC_SOLVER_CONVERGENCE_MSG)\n",
      "C:\\Users\\Svetha Pulavarty\\Anaconda3\\lib\\site-packages\\sklearn\\linear_model\\_logistic.py:940: ConvergenceWarning: lbfgs failed to converge (status=1):\n",
      "STOP: TOTAL NO. of ITERATIONS REACHED LIMIT.\n",
      "\n",
      "Increase the number of iterations (max_iter) or scale the data as shown in:\n",
      "    https://scikit-learn.org/stable/modules/preprocessing.html\n",
      "Please also refer to the documentation for alternative solver options:\n",
      "    https://scikit-learn.org/stable/modules/linear_model.html#logistic-regression\n",
      "  extra_warning_msg=_LOGISTIC_SOLVER_CONVERGENCE_MSG)\n",
      "C:\\Users\\Svetha Pulavarty\\Anaconda3\\lib\\site-packages\\sklearn\\linear_model\\_logistic.py:940: ConvergenceWarning: lbfgs failed to converge (status=1):\n",
      "STOP: TOTAL NO. of ITERATIONS REACHED LIMIT.\n",
      "\n",
      "Increase the number of iterations (max_iter) or scale the data as shown in:\n",
      "    https://scikit-learn.org/stable/modules/preprocessing.html\n",
      "Please also refer to the documentation for alternative solver options:\n",
      "    https://scikit-learn.org/stable/modules/linear_model.html#logistic-regression\n",
      "  extra_warning_msg=_LOGISTIC_SOLVER_CONVERGENCE_MSG)\n"
     ]
    },
    {
     "data": {
      "text/plain": [
       "[(0.8562188253029875, 1),\n",
       " (0.8622543037618972, 10),\n",
       " (0.8606296738277388, 100),\n",
       " (0.8599335127410591, 1000)]"
      ]
     },
     "execution_count": 47,
     "metadata": {},
     "output_type": "execute_result"
    }
   ],
   "source": [
    "validscores = getScores(X_train, y_train3, X_valid, y_valid3, \"log\")\n",
    "validscores"
   ]
  },
  {
   "cell_type": "code",
   "execution_count": 48,
   "metadata": {},
   "outputs": [
    {
     "name": "stderr",
     "output_type": "stream",
     "text": [
      "C:\\Users\\Svetha Pulavarty\\Anaconda3\\lib\\site-packages\\sklearn\\linear_model\\_logistic.py:940: ConvergenceWarning: lbfgs failed to converge (status=1):\n",
      "STOP: TOTAL NO. of ITERATIONS REACHED LIMIT.\n",
      "\n",
      "Increase the number of iterations (max_iter) or scale the data as shown in:\n",
      "    https://scikit-learn.org/stable/modules/preprocessing.html\n",
      "Please also refer to the documentation for alternative solver options:\n",
      "    https://scikit-learn.org/stable/modules/linear_model.html#logistic-regression\n",
      "  extra_warning_msg=_LOGISTIC_SOLVER_CONVERGENCE_MSG)\n"
     ]
    }
   ],
   "source": [
    "i = getBestC(validscores)\n",
    "f1, wlo, whi = testModel(\"log\", X_train, y_train3, X_test, y_test3, i)"
   ]
  },
  {
   "cell_type": "code",
   "execution_count": 49,
   "metadata": {},
   "outputs": [
    {
     "data": {
      "text/plain": [
       "0.8628591145077659"
      ]
     },
     "execution_count": 49,
     "metadata": {},
     "output_type": "execute_result"
    }
   ],
   "source": [
    "worst_lows.append(wlo)\n",
    "worst_his.append(whi)\n",
    "f1"
   ]
  },
  {
   "cell_type": "markdown",
   "metadata": {},
   "source": [
    "#### Support Vector Machine"
   ]
  },
  {
   "cell_type": "code",
   "execution_count": 50,
   "metadata": {},
   "outputs": [
    {
     "name": "stderr",
     "output_type": "stream",
     "text": [
      "C:\\Users\\Svetha Pulavarty\\Anaconda3\\lib\\site-packages\\sklearn\\svm\\_base.py:947: ConvergenceWarning: Liblinear failed to converge, increase the number of iterations.\n",
      "  \"the number of iterations.\", ConvergenceWarning)\n"
     ]
    },
    {
     "data": {
      "text/plain": [
       "[(0.8533848476665374, 1),\n",
       " (0.87187424331017, 10),\n",
       " (0.8714139451338925, 100),\n",
       " (0.8628777971973088, 1000)]"
      ]
     },
     "execution_count": 50,
     "metadata": {},
     "output_type": "execute_result"
    }
   ],
   "source": [
    "validscores = getScores(X_train, y_train3, X_valid, y_valid3, \"svm\")\n",
    "validscores"
   ]
  },
  {
   "cell_type": "code",
   "execution_count": 51,
   "metadata": {},
   "outputs": [],
   "source": [
    "i = getBestC(validscores)\n",
    "f1, wlo, whi = testModel(\"svm\", X_train, y_train3, X_test, y_test3, i)"
   ]
  },
  {
   "cell_type": "code",
   "execution_count": 52,
   "metadata": {},
   "outputs": [
    {
     "data": {
      "text/plain": [
       "0.8718262338499662"
      ]
     },
     "execution_count": 52,
     "metadata": {},
     "output_type": "execute_result"
    }
   ],
   "source": [
    "worst_lows.append(wlo)\n",
    "worst_his.append(whi)\n",
    "f1"
   ]
  },
  {
   "cell_type": "markdown",
   "metadata": {},
   "source": [
    "### Top Half vs Bottom Half\n",
    "<a id=\"fifty\"></a>"
   ]
  },
  {
   "cell_type": "markdown",
   "metadata": {},
   "source": [
    "For this section, the reviews were split into two classes. The first class is those reviews for books with an Amazon sales rank in the lowest two quartiles, i.e. the most successful books, and the second is those reviews for books in the highest two quartiles, i.e. the least successful books."
   ]
  },
  {
   "cell_type": "code",
   "execution_count": 53,
   "metadata": {},
   "outputs": [],
   "source": [
    "y_test4 = y_test.copy()\n",
    "y_train4 = y_train.copy()\n",
    "y_valid4 = y_valid.copy()\n",
    "\n",
    "#good\n",
    "y_test4[y_test4 <= 1] = 0\n",
    "y_train4[y_train4 <= 1] = 0\n",
    "y_valid4[y_valid4 <= 1] = 0\n",
    "\n",
    "#bad\n",
    "y_test4[y_test4 > 1] = 1\n",
    "y_train4[y_train4 > 1] = 1\n",
    "y_valid4[y_valid4 > 1] = 1"
   ]
  },
  {
   "cell_type": "code",
   "execution_count": 54,
   "metadata": {},
   "outputs": [],
   "source": [
    "fifty_lows = []\n",
    "fifty_his = []"
   ]
  },
  {
   "cell_type": "markdown",
   "metadata": {},
   "source": [
    "#### Perceptron"
   ]
  },
  {
   "cell_type": "code",
   "execution_count": 55,
   "metadata": {},
   "outputs": [],
   "source": [
    "f1, wlo, whi = testModel(\"per\", X_train, y_train4, X_test, y_test4)"
   ]
  },
  {
   "cell_type": "code",
   "execution_count": 56,
   "metadata": {},
   "outputs": [
    {
     "data": {
      "text/plain": [
       "0.6957016574554626"
      ]
     },
     "execution_count": 56,
     "metadata": {},
     "output_type": "execute_result"
    }
   ],
   "source": [
    "fifty_lows.append(wlo)\n",
    "fifty_his.append(whi)\n",
    "f1"
   ]
  },
  {
   "cell_type": "markdown",
   "metadata": {},
   "source": [
    "#### Logistic Regression"
   ]
  },
  {
   "cell_type": "code",
   "execution_count": 57,
   "metadata": {},
   "outputs": [
    {
     "name": "stderr",
     "output_type": "stream",
     "text": [
      "C:\\Users\\Svetha Pulavarty\\Anaconda3\\lib\\site-packages\\sklearn\\linear_model\\_logistic.py:940: ConvergenceWarning: lbfgs failed to converge (status=1):\n",
      "STOP: TOTAL NO. of ITERATIONS REACHED LIMIT.\n",
      "\n",
      "Increase the number of iterations (max_iter) or scale the data as shown in:\n",
      "    https://scikit-learn.org/stable/modules/preprocessing.html\n",
      "Please also refer to the documentation for alternative solver options:\n",
      "    https://scikit-learn.org/stable/modules/linear_model.html#logistic-regression\n",
      "  extra_warning_msg=_LOGISTIC_SOLVER_CONVERGENCE_MSG)\n",
      "C:\\Users\\Svetha Pulavarty\\Anaconda3\\lib\\site-packages\\sklearn\\linear_model\\_logistic.py:940: ConvergenceWarning: lbfgs failed to converge (status=1):\n",
      "STOP: TOTAL NO. of ITERATIONS REACHED LIMIT.\n",
      "\n",
      "Increase the number of iterations (max_iter) or scale the data as shown in:\n",
      "    https://scikit-learn.org/stable/modules/preprocessing.html\n",
      "Please also refer to the documentation for alternative solver options:\n",
      "    https://scikit-learn.org/stable/modules/linear_model.html#logistic-regression\n",
      "  extra_warning_msg=_LOGISTIC_SOLVER_CONVERGENCE_MSG)\n",
      "C:\\Users\\Svetha Pulavarty\\Anaconda3\\lib\\site-packages\\sklearn\\linear_model\\_logistic.py:940: ConvergenceWarning: lbfgs failed to converge (status=1):\n",
      "STOP: TOTAL NO. of ITERATIONS REACHED LIMIT.\n",
      "\n",
      "Increase the number of iterations (max_iter) or scale the data as shown in:\n",
      "    https://scikit-learn.org/stable/modules/preprocessing.html\n",
      "Please also refer to the documentation for alternative solver options:\n",
      "    https://scikit-learn.org/stable/modules/linear_model.html#logistic-regression\n",
      "  extra_warning_msg=_LOGISTIC_SOLVER_CONVERGENCE_MSG)\n",
      "C:\\Users\\Svetha Pulavarty\\Anaconda3\\lib\\site-packages\\sklearn\\linear_model\\_logistic.py:940: ConvergenceWarning: lbfgs failed to converge (status=1):\n",
      "STOP: TOTAL NO. of ITERATIONS REACHED LIMIT.\n",
      "\n",
      "Increase the number of iterations (max_iter) or scale the data as shown in:\n",
      "    https://scikit-learn.org/stable/modules/preprocessing.html\n",
      "Please also refer to the documentation for alternative solver options:\n",
      "    https://scikit-learn.org/stable/modules/linear_model.html#logistic-regression\n",
      "  extra_warning_msg=_LOGISTIC_SOLVER_CONVERGENCE_MSG)\n"
     ]
    },
    {
     "data": {
      "text/plain": [
       "[(0.7172781176196038, 1),\n",
       " (0.7216132121812316, 10),\n",
       " (0.7145805948274276, 100),\n",
       " (0.7162239881505928, 1000)]"
      ]
     },
     "execution_count": 57,
     "metadata": {},
     "output_type": "execute_result"
    }
   ],
   "source": [
    "validscores = getScores(X_train, y_train4, X_valid, y_valid4, \"log\")\n",
    "validscores"
   ]
  },
  {
   "cell_type": "code",
   "execution_count": 58,
   "metadata": {},
   "outputs": [
    {
     "name": "stderr",
     "output_type": "stream",
     "text": [
      "C:\\Users\\Svetha Pulavarty\\Anaconda3\\lib\\site-packages\\sklearn\\linear_model\\_logistic.py:940: ConvergenceWarning: lbfgs failed to converge (status=1):\n",
      "STOP: TOTAL NO. of ITERATIONS REACHED LIMIT.\n",
      "\n",
      "Increase the number of iterations (max_iter) or scale the data as shown in:\n",
      "    https://scikit-learn.org/stable/modules/preprocessing.html\n",
      "Please also refer to the documentation for alternative solver options:\n",
      "    https://scikit-learn.org/stable/modules/linear_model.html#logistic-regression\n",
      "  extra_warning_msg=_LOGISTIC_SOLVER_CONVERGENCE_MSG)\n"
     ]
    }
   ],
   "source": [
    "i = getBestC(validscores)\n",
    "f1, wlo, whi = testModel(\"log\", X_train, y_train4, X_test, y_test4, i)"
   ]
  },
  {
   "cell_type": "code",
   "execution_count": 59,
   "metadata": {},
   "outputs": [
    {
     "data": {
      "text/plain": [
       "0.7223545041033096"
      ]
     },
     "execution_count": 59,
     "metadata": {},
     "output_type": "execute_result"
    }
   ],
   "source": [
    "fifty_lows.append(wlo)\n",
    "fifty_his.append(whi)\n",
    "f1"
   ]
  },
  {
   "cell_type": "markdown",
   "metadata": {},
   "source": [
    "#### Support Vector Machine"
   ]
  },
  {
   "cell_type": "code",
   "execution_count": 60,
   "metadata": {},
   "outputs": [
    {
     "name": "stderr",
     "output_type": "stream",
     "text": [
      "C:\\Users\\Svetha Pulavarty\\Anaconda3\\lib\\site-packages\\sklearn\\svm\\_base.py:947: ConvergenceWarning: Liblinear failed to converge, increase the number of iterations.\n",
      "  \"the number of iterations.\", ConvergenceWarning)\n"
     ]
    },
    {
     "data": {
      "text/plain": [
       "[(0.7391217132138415, 1),\n",
       " (0.7412991353772118, 10),\n",
       " (0.7374678267825139, 100),\n",
       " (0.7109205147457663, 1000)]"
      ]
     },
     "execution_count": 60,
     "metadata": {},
     "output_type": "execute_result"
    }
   ],
   "source": [
    "validscores = getScores(X_train, y_train4, X_valid, y_valid4, \"svm\")\n",
    "validscores"
   ]
  },
  {
   "cell_type": "code",
   "execution_count": 61,
   "metadata": {},
   "outputs": [],
   "source": [
    "i = getBestC(validscores)\n",
    "f1, wlo, whi = testModel(\"svm\", X_train, y_train4, X_test, y_test4, i)"
   ]
  },
  {
   "cell_type": "code",
   "execution_count": 62,
   "metadata": {},
   "outputs": [
    {
     "data": {
      "text/plain": [
       "0.7426194456711266"
      ]
     },
     "execution_count": 62,
     "metadata": {},
     "output_type": "execute_result"
    }
   ],
   "source": [
    "fifty_lows.append(wlo)\n",
    "fifty_his.append(whi)\n",
    "f1"
   ]
  },
  {
   "cell_type": "markdown",
   "metadata": {},
   "source": [
    "## Results\n",
    "<a id=\"res\"></a>"
   ]
  },
  {
   "cell_type": "code",
   "execution_count": 63,
   "metadata": {},
   "outputs": [],
   "source": [
    "import matplotlib\n",
    "import matplotlib.pyplot as plt\n",
    "from collections import Counter"
   ]
  },
  {
   "cell_type": "markdown",
   "metadata": {},
   "source": [
    "### F1 Comparison"
   ]
  },
  {
   "cell_type": "code",
   "execution_count": 83,
   "metadata": {
    "scrolled": true
   },
   "outputs": [
    {
     "data": {
      "image/png": "[encoded data removed]",
      "text/plain": [
       "<Figure size 432x288 with 1 Axes>"
      ]
     },
     "metadata": {
      "needs_background": "light"
     },
     "output_type": "display_data"
    }
   ],
   "source": [
    "width = 0.25  # the width of the bars\n",
    "\n",
    "fig, ax = plt.subplots()\n",
    "width1 = np.arange(len(pscores))\n",
    "width2 = [x + width for x in width1]\n",
    "width3 = [x + width for x in width2]\n",
    "\n",
    "rects1 = ax.bar(width1, pscores, color='#7f6d5f', width=width, edgecolor='white', label='Perceptron')\n",
    "rects2 = ax.bar(width2, lscores, color='#557f2d', width=width, edgecolor='white', label='Logistic Regression')\n",
    "rects3 = ax.bar(width3, sscores, color='#2d7f5e', width=width, edgecolor='white', label='Linear SVM')\n",
    "\n",
    "plt.xlabel('Test', fontweight='bold')\n",
    "plt.xticks([r + width for r in width2], ['Multiclass', 'Best Books', 'Worst Books', \"Half-and-Half\"])\n",
    "\n",
    "ax.set_ylabel('F1 Scores')\n",
    "ax.set_title('F1 Scores by Algorithm and Test')\n",
    "ax.legend()\n",
    "\n",
    "def autolabel(rects):\n",
    "    \"\"\"Attach a text label above each bar in *rects*, displaying its height.\"\"\"\n",
    "    for rect in rects:\n",
    "        height = rect.get_height()\n",
    "        ax.annotate('{}'.format(round(height,2)),\n",
    "                    xy=(rect.get_x() + rect.get_width() / 2, height),\n",
    "                    xytext=(0, 3),  # 3 points vertical offset\n",
    "                    textcoords=\"offset points\",\n",
    "                    ha='center', va='bottom')\n",
    "\n",
    "autolabel(rects1)\n",
    "autolabel(rects2)\n",
    "autolabel(rects3)\n",
    "\n",
    "fig.tight_layout()\n",
    "\n",
    "plt.savefig('plot.png')\n",
    "plt.show()"
   ]
  },
  {
   "cell_type": "markdown",
   "metadata": {},
   "source": [
    "Generally, the Linear SVC model had the highest F1 scores, followed by the logistic regression model, followed by the perceptron. The predictors which took the least successful ebooks as a single class had the highest F1 scores. "
   ]
  },
  {
   "cell_type": "markdown",
   "metadata": {},
   "source": [
    "### Common Words for Multiclass"
   ]
  },
  {
   "cell_type": "code",
   "execution_count": 65,
   "metadata": {},
   "outputs": [
    {
     "data": {
      "text/plain": [
       "Counter({'matis': 2,\n",
       "         'shovelers': 2,\n",
       "         'lothair': 2,\n",
       "         'closeout': 2,\n",
       "         'chay': 1,\n",
       "         'granade': 1,\n",
       "         'padraig': 2,\n",
       "         'sonics': 2,\n",
       "         'payce': 2,\n",
       "         'rayce': 1,\n",
       "         'bitterthorn': 2,\n",
       "         'vonbrandt': 1,\n",
       "         'emlyn': 2,\n",
       "         '1918': 1,\n",
       "         'crawley': 1,\n",
       "         'hollins': 2,\n",
       "         'lunsford': 1,\n",
       "         'mirelle': 2,\n",
       "         'riann': 2,\n",
       "         'aynslee': 1,\n",
       "         'prudy': 1,\n",
       "         'ingro': 1,\n",
       "         'schiller': 1,\n",
       "         'kiden': 2,\n",
       "         'flury': 2,\n",
       "         'lantano': 1,\n",
       "         'barth': 2,\n",
       "         'suzannah': 2,\n",
       "         'rie': 2,\n",
       "         'dryad': 1,\n",
       "         'facts': 1,\n",
       "         'debut': 1,\n",
       "         'erik': 1,\n",
       "         'illustrations': 1,\n",
       "         'sydney': 1,\n",
       "         'green': 1,\n",
       "         'cynthia': 1,\n",
       "         'lane': 1,\n",
       "         'david': 1,\n",
       "         'sk': 1,\n",
       "         'foor': 1,\n",
       "         'cupid': 1,\n",
       "         'animals': 1,\n",
       "         'henry': 1,\n",
       "         'tips': 1,\n",
       "         'diet': 1,\n",
       "         'photos': 1,\n",
       "         'pictures': 1,\n",
       "         'laura': 1,\n",
       "         'sandra': 1,\n",
       "         'april': 1,\n",
       "         'guide': 1,\n",
       "         'strategies': 1,\n",
       "         'jay': 1,\n",
       "         'recipe': 1,\n",
       "         'austen': 1,\n",
       "         'rick': 1,\n",
       "         'dorian': 1,\n",
       "         'mike': 1,\n",
       "         'online': 1,\n",
       "         'mcfarlan': 1,\n",
       "         'appoint': 1,\n",
       "         'goofier': 1,\n",
       "         'dwi': 1,\n",
       "         'lingane': 1,\n",
       "         'neurons': 1,\n",
       "         'tenwick': 1,\n",
       "         'screened': 1,\n",
       "         '1640': 1,\n",
       "         'analysing': 1,\n",
       "         'croatia': 1,\n",
       "         'annica': 1,\n",
       "         'sibylla': 1})"
      ]
     },
     "execution_count": 65,
     "metadata": {},
     "output_type": "execute_result"
    }
   ],
   "source": [
    "Counter(x for xs in multi_lows for x in set(xs))"
   ]
  },
  {
   "cell_type": "code",
   "execution_count": 66,
   "metadata": {},
   "outputs": [
    {
     "data": {
      "text/plain": [
       "Counter({'sosie': 2,\n",
       "         'grimke': 1,\n",
       "         'lamanna': 1,\n",
       "         'iamwillow': 1,\n",
       "         'goldtree': 2,\n",
       "         'baltsaros': 1,\n",
       "         'gerritsen': 2,\n",
       "         'seligman': 2,\n",
       "         'meli': 1,\n",
       "         'beachwood': 2,\n",
       "         'pappano': 2,\n",
       "         'shandwick': 1,\n",
       "         'cardeno': 2,\n",
       "         'kawasaki': 2,\n",
       "         'cyprian': 2,\n",
       "         'shiftr': 1,\n",
       "         'tijan': 2,\n",
       "         'mechanica': 2,\n",
       "         'cowbear': 1,\n",
       "         'hamel': 2,\n",
       "         'subordination': 1,\n",
       "         'belvin': 2,\n",
       "         'sittenfeld': 2,\n",
       "         'kalanithi': 2,\n",
       "         'canterbary': 2,\n",
       "         'turano': 1,\n",
       "         'mackintosh': 2,\n",
       "         'aven': 1,\n",
       "         'stylo': 2,\n",
       "         'harrigan': 2,\n",
       "         'alexa': 1,\n",
       "         'terry': 1,\n",
       "         'jasinda': 1,\n",
       "         'zoe': 1,\n",
       "         'cayson': 1,\n",
       "         'caldwell': 1,\n",
       "         'lauren': 1,\n",
       "         'bolryder': 1,\n",
       "         'unlimited': 1,\n",
       "         'duke': 1,\n",
       "         'sloane': 1,\n",
       "         'rebel': 1,\n",
       "         'prequel': 1,\n",
       "         'ana': 1,\n",
       "         'dani': 1,\n",
       "         'jess': 1,\n",
       "         'hockey': 1,\n",
       "         'reacher': 1,\n",
       "         'kindred': 1,\n",
       "         'zane': 1,\n",
       "         'colton': 1,\n",
       "         'slade': 1,\n",
       "         'cal': 1,\n",
       "         'zeth': 1,\n",
       "         'buroker': 1,\n",
       "         'celia': 1,\n",
       "         'silver': 1,\n",
       "         'rylee': 1,\n",
       "         'ryker': 1,\n",
       "         'goins': 1,\n",
       "         'aniri': 1,\n",
       "         'maykayla': 1,\n",
       "         'lovegame': 1,\n",
       "         'robicheaux': 1,\n",
       "         'hotbod': 1,\n",
       "         'maili': 1,\n",
       "         'albanese': 1,\n",
       "         'desalls': 1,\n",
       "         'gaymers': 1,\n",
       "         'garris': 1,\n",
       "         'stelson': 1})"
      ]
     },
     "execution_count": 66,
     "metadata": {},
     "output_type": "execute_result"
    }
   ],
   "source": [
    "Counter(x for xs in multi_his for x in set(xs))"
   ]
  },
  {
   "cell_type": "markdown",
   "metadata": {},
   "source": [
    "### Common Words for Best vs Rest"
   ]
  },
  {
   "cell_type": "code",
   "execution_count": 67,
   "metadata": {},
   "outputs": [
    {
     "data": {
      "text/plain": [
       "Counter({'sosie': 2,\n",
       "         'hartnady': 1,\n",
       "         'goldtree': 1,\n",
       "         'baltsaros': 2,\n",
       "         'hetta': 3,\n",
       "         'goins': 2,\n",
       "         'beachwood': 2,\n",
       "         'pappano': 1,\n",
       "         'shandwick': 1,\n",
       "         'kawasaki': 2,\n",
       "         'shiftr': 2,\n",
       "         'tijan': 3,\n",
       "         'mechanica': 2,\n",
       "         'cowbear': 2,\n",
       "         'hamel': 3,\n",
       "         'lovegame': 1,\n",
       "         'belvin': 3,\n",
       "         'robicheaux': 1,\n",
       "         'sittenfeld': 2,\n",
       "         'kalanithi': 2,\n",
       "         'andriano': 1,\n",
       "         'kellington': 1,\n",
       "         'dornan': 1,\n",
       "         'mackintosh': 2,\n",
       "         'frenched': 1,\n",
       "         'ceony': 1,\n",
       "         'gansett': 1,\n",
       "         'aven': 2,\n",
       "         'stylo': 2,\n",
       "         'harrigan': 2,\n",
       "         'cayson': 1,\n",
       "         'jasinda': 1,\n",
       "         'caldwell': 1,\n",
       "         'nix': 1,\n",
       "         'bolryder': 1,\n",
       "         'scalzi': 1,\n",
       "         'aspen': 1,\n",
       "         'gentry': 1,\n",
       "         'oblivion': 1,\n",
       "         'baldacci': 1,\n",
       "         'thalia': 1,\n",
       "         'bradshaw': 1,\n",
       "         'iain': 1,\n",
       "         'andrei': 1,\n",
       "         'darrow': 2,\n",
       "         'reacher': 1,\n",
       "         'begley': 1,\n",
       "         'payton': 1,\n",
       "         'kindred': 1,\n",
       "         'rhett': 1,\n",
       "         'lucinda': 1,\n",
       "         'zeth': 2,\n",
       "         'azmir': 1,\n",
       "         'buroker': 2,\n",
       "         'rayna': 1,\n",
       "         'rylee': 1,\n",
       "         'wilding': 1,\n",
       "         'bodhi': 1,\n",
       "         'janny': 1,\n",
       "         'cardeno': 1,\n",
       "         'pucked': 1,\n",
       "         'mckinney': 1,\n",
       "         'keanu': 1,\n",
       "         'bene': 1,\n",
       "         'culloden': 1})"
      ]
     },
     "execution_count": 67,
     "metadata": {},
     "output_type": "execute_result"
    }
   ],
   "source": [
    "Counter(x for xs in best_lows for x in set(xs))"
   ]
  },
  {
   "cell_type": "code",
   "execution_count": 68,
   "metadata": {},
   "outputs": [
    {
     "data": {
      "text/plain": [
       "Counter({'shovelers': 2,\n",
       "         'lothair': 1,\n",
       "         'burson': 1,\n",
       "         'granade': 2,\n",
       "         'camy': 1,\n",
       "         'sonics': 2,\n",
       "         'payce': 2,\n",
       "         'vonbrandt': 2,\n",
       "         'ferraro': 1,\n",
       "         '1918': 1,\n",
       "         'lingane': 1,\n",
       "         'crawley': 2,\n",
       "         'hollins': 1,\n",
       "         'rarities': 1,\n",
       "         'everglades': 1,\n",
       "         'riann': 2,\n",
       "         'aynslee': 1,\n",
       "         'analysing': 1,\n",
       "         'schiller': 1,\n",
       "         'kiden': 1,\n",
       "         'zabrinski': 2,\n",
       "         'shriver': 1,\n",
       "         'flury': 1,\n",
       "         'silber': 1,\n",
       "         'barth': 2,\n",
       "         'suzannah': 2,\n",
       "         'rie': 3,\n",
       "         'sibylla': 2,\n",
       "         'dryad': 1,\n",
       "         'duggan': 1,\n",
       "         'erik': 1,\n",
       "         'kasey': 1,\n",
       "         'jenika': 1,\n",
       "         'chay': 1,\n",
       "         'jani': 2,\n",
       "         'dorian': 1,\n",
       "         'tymber': 1,\n",
       "         'merrick': 1,\n",
       "         'den': 1,\n",
       "         'ivory': 1,\n",
       "         'bentley': 1,\n",
       "         'sk': 1,\n",
       "         'dickens': 1,\n",
       "         'saylor': 2,\n",
       "         'carla': 1,\n",
       "         'tiana': 1,\n",
       "         'cupid': 1,\n",
       "         'brielle': 1,\n",
       "         'tajana': 1,\n",
       "         'sandra': 1,\n",
       "         'tyce': 1,\n",
       "         'tania': 1,\n",
       "         'dix': 2,\n",
       "         'lorna': 1,\n",
       "         'magnolia': 1,\n",
       "         'daemon': 2,\n",
       "         'astrid': 1,\n",
       "         'ramsey': 1,\n",
       "         'foor': 1,\n",
       "         'pullo': 1,\n",
       "         'pembroke': 1,\n",
       "         'rayce': 1,\n",
       "         'didgeridoo': 1,\n",
       "         'bolling': 1,\n",
       "         'creighton': 1,\n",
       "         'gymnast': 1,\n",
       "         'rayanne': 1,\n",
       "         'aicher': 1,\n",
       "         'stiles': 1,\n",
       "         'aylee': 1,\n",
       "         'evy': 1,\n",
       "         'fawkes': 1,\n",
       "         'nikolaj': 1})"
      ]
     },
     "execution_count": 68,
     "metadata": {},
     "output_type": "execute_result"
    }
   ],
   "source": [
    "Counter(x for xs in best_his for x in set(xs))"
   ]
  },
  {
   "cell_type": "markdown",
   "metadata": {},
   "source": [
    "### Common Words for Worst vs Rest"
   ]
  },
  {
   "cell_type": "code",
   "execution_count": 69,
   "metadata": {},
   "outputs": [
    {
     "data": {
      "text/plain": [
       "Counter({'mazzy': 1,\n",
       "         'hendin': 2,\n",
       "         'cowan': 2,\n",
       "         'viridis': 1,\n",
       "         'kucan': 1,\n",
       "         'burson': 2,\n",
       "         'zhoe': 1,\n",
       "         'scotto': 1,\n",
       "         'spina': 2,\n",
       "         'behiel': 1,\n",
       "         'devonwood': 2,\n",
       "         'forbearance': 1,\n",
       "         'pascale': 1,\n",
       "         'bellissimo': 1,\n",
       "         'kasonndra': 2,\n",
       "         'shortland': 1,\n",
       "         'nalia': 2,\n",
       "         'eror': 1,\n",
       "         'brennus': 1,\n",
       "         'annike': 1,\n",
       "         'presleigh': 1,\n",
       "         'flc': 1,\n",
       "         'pura': 1,\n",
       "         'vonn': 1,\n",
       "         'annica': 2,\n",
       "         'velden': 2,\n",
       "         'supay': 1,\n",
       "         'denniger': 1,\n",
       "         'arla': 2,\n",
       "         'khul': 1,\n",
       "         'homer': 1,\n",
       "         'dahlia': 1,\n",
       "         'brien': 1,\n",
       "         'und': 1,\n",
       "         'madame': 1,\n",
       "         'zeppi': 1,\n",
       "         'poppet': 1,\n",
       "         'moats': 1,\n",
       "         'burkholder': 1,\n",
       "         'nickie': 1,\n",
       "         'poems': 1,\n",
       "         'dickens': 1,\n",
       "         'kye': 1,\n",
       "         'cathy': 1,\n",
       "         'hills': 1,\n",
       "         'grisham': 1,\n",
       "         'wwe': 1,\n",
       "         'golf': 1,\n",
       "         'nicki': 1,\n",
       "         'laila': 1,\n",
       "         'quiz': 1,\n",
       "         'skai': 1,\n",
       "         'der': 1,\n",
       "         'satire': 1,\n",
       "         'darrin': 1,\n",
       "         'sary': 1,\n",
       "         'austen': 1,\n",
       "         'interactive': 1,\n",
       "         'gustavo': 1,\n",
       "         '1ns': 1,\n",
       "         'krebs': 1,\n",
       "         'northshore': 1,\n",
       "         'copperheart': 1,\n",
       "         'scuttlebuttreviews': 1,\n",
       "         'birchtree': 1,\n",
       "         'cannariato': 1,\n",
       "         'tage': 1,\n",
       "         'phalla': 1,\n",
       "         'delvino': 1,\n",
       "         'doco': 1,\n",
       "         'bressoff': 1,\n",
       "         'tachna': 1,\n",
       "         'stenhouse': 1,\n",
       "         'megamart': 1,\n",
       "         'adelita': 1,\n",
       "         'weighton': 1,\n",
       "         'leslea': 1,\n",
       "         'sagrario': 1,\n",
       "         'logician': 1,\n",
       "         'cantin': 1})"
      ]
     },
     "execution_count": 69,
     "metadata": {},
     "output_type": "execute_result"
    }
   ],
   "source": [
    "Counter(x for xs in worst_lows for x in set(xs))"
   ]
  },
  {
   "cell_type": "code",
   "execution_count": 70,
   "metadata": {},
   "outputs": [
    {
     "data": {
      "text/plain": [
       "Counter({'mayer': 1,\n",
       "         'irrefutable': 1,\n",
       "         'heldt': 1,\n",
       "         'brax': 1,\n",
       "         'stallings': 1,\n",
       "         'sigal': 2,\n",
       "         'prentiss': 1,\n",
       "         'halston': 1,\n",
       "         'nietzsche': 2,\n",
       "         'bourbon': 1,\n",
       "         'b007k8qo28': 2,\n",
       "         'covington': 1,\n",
       "         'triller': 1,\n",
       "         'marquess': 1,\n",
       "         'marietta': 3,\n",
       "         'meeks': 1,\n",
       "         'mayans': 2,\n",
       "         'cragle': 1,\n",
       "         'westwood': 2,\n",
       "         'sittenfeld': 1,\n",
       "         'loren': 1,\n",
       "         'creeden': 1,\n",
       "         'oram': 1,\n",
       "         'wingate': 2,\n",
       "         'tule': 1,\n",
       "         'ronaldo': 1,\n",
       "         'foor': 1,\n",
       "         'hitz': 1,\n",
       "         'jasinda': 1,\n",
       "         'regnery': 2,\n",
       "         'reed': 1,\n",
       "         'saint': 1,\n",
       "         'lucian': 1,\n",
       "         'heath': 1,\n",
       "         'montana': 1,\n",
       "         'earl': 1,\n",
       "         'carrie': 1,\n",
       "         'duke': 1,\n",
       "         'tesla': 1,\n",
       "         'colt': 1,\n",
       "         'boxed': 1,\n",
       "         'regency': 1,\n",
       "         'hudson': 1,\n",
       "         'zoey': 1,\n",
       "         'brides': 1,\n",
       "         'bride': 1,\n",
       "         'series': 1,\n",
       "         'mail': 1,\n",
       "         'hockey': 1,\n",
       "         'seal': 1,\n",
       "         'mating': 1,\n",
       "         'reacher': 1,\n",
       "         'cozy': 1,\n",
       "         'mc': 1,\n",
       "         'ku': 1,\n",
       "         'reid': 1,\n",
       "         'billionaire': 1,\n",
       "         'darcy': 1,\n",
       "         'unlimited': 1,\n",
       "         'logos': 1,\n",
       "         'cataract': 1,\n",
       "         'beak': 1,\n",
       "         'pham': 1,\n",
       "         'gilstrap': 1,\n",
       "         'mobility': 1,\n",
       "         'kawasaki': 1,\n",
       "         'jamestown': 1,\n",
       "         'malediction': 1,\n",
       "         'snapper': 1,\n",
       "         'energize': 1,\n",
       "         'marcum': 1,\n",
       "         'pimple': 1,\n",
       "         'fenced': 1,\n",
       "         'kortni': 1,\n",
       "         'dade': 1,\n",
       "         'plath': 1,\n",
       "         'b00bh68rba': 1,\n",
       "         'voris': 1,\n",
       "         'oscars': 1,\n",
       "         'clopper': 1,\n",
       "         'wicka': 1})"
      ]
     },
     "execution_count": 70,
     "metadata": {},
     "output_type": "execute_result"
    }
   ],
   "source": [
    "Counter(x for xs in worst_his for x in set(xs))"
   ]
  },
  {
   "cell_type": "markdown",
   "metadata": {},
   "source": [
    "### Common Words for Top Half vs Bottom Half"
   ]
  },
  {
   "cell_type": "code",
   "execution_count": 71,
   "metadata": {},
   "outputs": [
    {
     "data": {
      "text/plain": [
       "Counter({'katee': 2,\n",
       "         'heldt': 2,\n",
       "         'rothert': 1,\n",
       "         'gerritsen': 2,\n",
       "         'stallings': 1,\n",
       "         'taiden': 2,\n",
       "         'gonzalez': 2,\n",
       "         'provence': 2,\n",
       "         'goins': 2,\n",
       "         'marquita': 2,\n",
       "         'sonics': 1,\n",
       "         'aoleon': 2,\n",
       "         'moonbound': 1,\n",
       "         'killough': 1,\n",
       "         'cardeno': 1,\n",
       "         'kawasaki': 2,\n",
       "         'tijan': 2,\n",
       "         'sindia': 1,\n",
       "         'cartmell': 2,\n",
       "         'blucy': 1,\n",
       "         'burnham': 1,\n",
       "         'belvin': 1,\n",
       "         'darrow': 2,\n",
       "         'mackintosh': 1,\n",
       "         'carponti': 1,\n",
       "         'lemmon': 2,\n",
       "         'wingate': 2,\n",
       "         'forgy': 1,\n",
       "         'lebowski': 1,\n",
       "         'regnery': 2,\n",
       "         'noel': 1,\n",
       "         'jasinda': 1,\n",
       "         'lucian': 1,\n",
       "         'beck': 1,\n",
       "         'nix': 1,\n",
       "         'montana': 1,\n",
       "         'earl': 1,\n",
       "         'frost': 1,\n",
       "         'duke': 1,\n",
       "         'deborah': 1,\n",
       "         'vivienne': 1,\n",
       "         'sloane': 1,\n",
       "         'scalzi': 1,\n",
       "         'zoey': 1,\n",
       "         'brides': 1,\n",
       "         'aria': 1,\n",
       "         'hart': 1,\n",
       "         'marietta': 1,\n",
       "         'hockey': 1,\n",
       "         'reacher': 1,\n",
       "         'kindred': 1,\n",
       "         'colton': 1,\n",
       "         'neve': 1,\n",
       "         'zeth': 1,\n",
       "         'maddox': 1,\n",
       "         'buroker': 1,\n",
       "         'rylee': 1,\n",
       "         'unlimited': 1,\n",
       "         'levey': 1,\n",
       "         'wayland': 1,\n",
       "         'johanisburg': 1,\n",
       "         'neeny': 1,\n",
       "         'alcorn': 1,\n",
       "         'haeven': 1,\n",
       "         'b00gz5h6r4': 1,\n",
       "         'pimple': 1,\n",
       "         'aptos': 1,\n",
       "         'betrayers': 1,\n",
       "         'forneus': 1,\n",
       "         'voris': 1,\n",
       "         'sensuously': 1,\n",
       "         'marnee': 1,\n",
       "         'bouillon': 1,\n",
       "         'quidell': 1})"
      ]
     },
     "execution_count": 71,
     "metadata": {},
     "output_type": "execute_result"
    }
   ],
   "source": [
    "Counter(x for xs in fifty_lows for x in set(xs))"
   ]
  },
  {
   "cell_type": "code",
   "execution_count": 72,
   "metadata": {},
   "outputs": [
    {
     "data": {
      "text/plain": [
       "Counter({'aliso': 2,\n",
       "         'kerstyn': 1,\n",
       "         'westervelt': 2,\n",
       "         'podger': 2,\n",
       "         'calinda': 1,\n",
       "         'warneke': 1,\n",
       "         'lingane': 2,\n",
       "         'foy': 1,\n",
       "         'ghiselle': 2,\n",
       "         'didgeridoo': 1,\n",
       "         'velasquez': 1,\n",
       "         'vieux': 1,\n",
       "         'somerton': 2,\n",
       "         'isthmus': 2,\n",
       "         'whitetail': 1,\n",
       "         'ingro': 2,\n",
       "         'ditter': 2,\n",
       "         'dreyer': 2,\n",
       "         'pura': 2,\n",
       "         'ceruleans': 1,\n",
       "         'lantano': 2,\n",
       "         'badewyn': 2,\n",
       "         'lashell': 1,\n",
       "         'marisela': 2,\n",
       "         'choisie': 1,\n",
       "         'sidda': 2,\n",
       "         'rawlyns': 2,\n",
       "         'brimble': 2,\n",
       "         'arla': 2,\n",
       "         'childstar': 1,\n",
       "         'debut': 1,\n",
       "         'lucca': 1,\n",
       "         'illustrations': 1,\n",
       "         'und': 1,\n",
       "         'spankings': 1,\n",
       "         'barron': 1,\n",
       "         'ricky': 1,\n",
       "         'jumpy': 1,\n",
       "         'coen': 1,\n",
       "         'tawny': 1,\n",
       "         'poems': 1,\n",
       "         'sk': 1,\n",
       "         'dickens': 1,\n",
       "         'ollie': 1,\n",
       "         'kye': 1,\n",
       "         'cupid': 1,\n",
       "         'poetry': 1,\n",
       "         'nala': 1,\n",
       "         'webb': 1,\n",
       "         'matilda': 1,\n",
       "         'betty': 1,\n",
       "         'bunker': 1,\n",
       "         'tania': 1,\n",
       "         'javier': 1,\n",
       "         'quiz': 1,\n",
       "         'der': 1,\n",
       "         'jolie': 1,\n",
       "         'austen': 1,\n",
       "         'procrastination': 1,\n",
       "         'investing': 1,\n",
       "         'mx': 1,\n",
       "         'hendin': 1,\n",
       "         'nuss': 1,\n",
       "         'mcbryde': 1,\n",
       "         'westfall': 1,\n",
       "         'angelisa': 1,\n",
       "         'hollins': 1,\n",
       "         'kaston': 1,\n",
       "         'brison': 1,\n",
       "         'kiden': 1,\n",
       "         'adgate': 1,\n",
       "         'deveaux': 1})"
      ]
     },
     "execution_count": 72,
     "metadata": {},
     "output_type": "execute_result"
    }
   ],
   "source": [
    "Counter(x for xs in fifty_his for x in set(xs))"
   ]
  },
  {
   "cell_type": "markdown",
   "metadata": {},
   "source": [
    "## Analysis\n",
    "<a id=\"analysis\"></a>"
   ]
  },
  {
   "cell_type": "markdown",
   "metadata": {},
   "source": [
    "Predicting whether a book is in the least successful quartile for Amazon sales rankings seems to be much easier than predicting whether an ebook is in the most successful quartile. This may be because an ebook’s success relies on luck in addition to quality, and by quality alone, it may be possible to only easily predict the least successful with a high degree of accuracy. It might also be because the boundary between the least successful quartile and the rest of the ebooks is more defined than other boundaries. \n",
    "\n",
    "The multiclass algorithms, in contrast, did the worst, in part because the classes were attempting to make four discrete segments from a continuous scale. Determining whether an ebook was in the most successful quartile was also less successful, possibly because the difference between a highly successful ebook and an ebook of middling success is more negligible. For a similar reason, predicting whether an ebook was in the top 50% or lowest 50% was also less successful. \n",
    "\n",
    "The models were chosen for their interpretability. However, many of the lowest and highest weighted words seem to be names rather than more meaningful words. Famous authors such as Dickens and Austen seem to appear more in reviews for more successful books, as are words such as poetry and illustrations. Interestingly, words correlated with lower Amazon sales rankings include Regency, unlimited, and series. This suggests works in a series may be more likely to have lower rankings, as are books from the Regency romance genre. "
   ]
  },
  {
   "cell_type": "markdown",
   "metadata": {},
   "source": [
    "## Conclusions\n",
    "<a id=\"concl\"></a>"
   ]
  },
  {
   "cell_type": "markdown",
   "metadata": {},
   "source": [
    "Overall it seems likely that a single review can predict whether or not an ebook will be in the lowest quartile of sales rankings in the Amazon Kindle store. It would be interesting to use a linear regression model to predict the actual sales ranking from a review, in contrast to the multiclass models, which created four discrete classes from a continuous scale. \n",
    "\n",
    "While the models were interpretable, bias might exist. The lowest quartile of sales rankings, given the logistic regression model, was correlated with terms such as Regency, which are in turn related to the female-led romance genre. There is therefore a possibility of bias in that female-written works might be ranked lower than male-written works. Additionally, since famous authors are correlated with better rankings, this algorithm might overlook authors with less fame who are just as talented. \n",
    "\n",
    "Further research is necessary to reduce bias in the models and to create a classifier that might better predict sales rankings. "
   ]
  },
  {
   "cell_type": "markdown",
   "metadata": {},
   "source": [
    "## Citations\n",
    "<a id=\"citations\"></a>"
   ]
  },
  {
   "cell_type": "markdown",
   "metadata": {},
   "source": [
    "<a id=\"cit1\"></a>[1]\tK. Kousha, M. Thelwall, and S. Rezaie, “Assessing the citation impact of books: The role of Google Books, Google Scholar, and Scopus,” J. Am. Soc. Inf. Sci. Technol., vol. 62, no. 11, pp. 2147–2164, 2011, doi: 10.1002/asi.21608.  \n",
    "\n",
    "<a id=\"cit2\"></a>[2]\tA. A. Zuccala, F. T. Verleysen, R. Cornacchia, and T. C. E. Engels, “Altmetrics for the humanities: Comparing Goodreads reader ratings with citations to history books,” Aslib J. Inf. Manag., vol. 67, no. 3, pp. 320–336, Jan. 2015, doi: 10.1108/AJIM-11-2014-0152.\n",
    "\n",
    "<a id=\"cit3\"></a>[3]\tK. Kousha and M. Thelwall, “Can Amazon.com reviews help to assess the wider impacts of books?,” J. Assoc. Inf. Sci. Technol., vol. 67, no. 3, pp. 566–581, Mar. 2016, doi: 10.1002/asi.23404.\n",
    "\n",
    "<a id=\"cit4\"></a>[4]\tQ. Zhou, C. Zhang, S. X. Zhao, and B. Chen, “Measuring book impact based on the multi-granularity online review mining,” Scientometrics, vol. 107, no. 3, pp. 1435–1455, Jun. 2016, doi: 10.1007/s11192-016-1930-5.\n",
    "\n",
    "<a id=\"cit5\"></a>[5]\tJ. A. Chevalier and D. Mayzlin, “The Effect of Word of Mouth on Sales: Online Book Reviews:,” J. Mark. Res., Oct. 2018, doi: 10.1509/jmkr.43.3.345.\n",
    "\n",
    "<a id=\"cit6\"></a>[6]\t“Amazon review data.” https://nijianmo.github.io/amazon/index.html#subsets (accessed Apr. 29, 2020)."
   ]
  }
 ],
 "metadata": {
  "kernelspec": {
   "display_name": "Python 3",
   "language": "python",
   "name": "python3"
  }
 },
 "nbformat": 4,
 "nbformat_minor": 4
}
